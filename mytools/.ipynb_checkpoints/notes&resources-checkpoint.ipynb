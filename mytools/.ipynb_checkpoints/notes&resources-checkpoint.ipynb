{
 "cells": [
  {
   "cell_type": "markdown",
   "metadata": {},
   "source": [
    "### syspath"
   ]
  },
  {
   "cell_type": "code",
   "execution_count": null,
   "metadata": {},
   "outputs": [],
   "source": [
    "def add_parent_dir_to_syspath():    \n",
    "    '''\n",
    "    how to add parent dir to syspath. useful if you want to have multiple projects using a single utils file\n",
    "    '''\n",
    "    from pathlib import Path\n",
    "    import sys\n",
    "    path_root = Path(__file__).parents[2]\n",
    "    sys.path.append(str(path_root))\n",
    "    return sys.path"
   ]
  },
  {
   "cell_type": "markdown",
   "metadata": {},
   "source": [
    "### Get working directory, change working directory"
   ]
  },
  {
   "cell_type": "code",
   "execution_count": null,
   "metadata": {},
   "outputs": [],
   "source": [
    "import os\n",
    "print(os.getcwd())\n",
    "os.chdir('C:\\\\Users\\\\mstanton') #this needs to be updated depending where you are running the script from\n",
    "print(os.getcwd())"
   ]
  },
  {
   "cell_type": "markdown",
   "metadata": {},
   "source": [
    "### JSON / NoSQL"
   ]
  },
  {
   "cell_type": "code",
   "execution_count": null,
   "metadata": {},
   "outputs": [],
   "source": [
    "def level2_json_df(data, data_start, level1_items, level2_tag):\n",
    "    '''\n",
    "    this function automatically creates a dataframe from an object nested within the 2nd level of a json dataset. \n",
    "    a list of 1st level column items to add is also specified, which will allow this df to be joined with others from the dataset\n",
    "    '''\n",
    "    tabledata = []\n",
    "    for level1_item in data[data_start]:\n",
    "        for level2_cntnr in level1_item[level2_tag]:\n",
    "            record_dict = {}\n",
    "            for level1_attr in level1_items:\n",
    "                record_dict['record_'+level1_attr] = level1_item[level1_attr]       \n",
    "            for level2_item in level2_cntnr.keys():\n",
    "                record_dict[level2_tag+'_'+level2_item] = level2_cntnr[level2_item]\n",
    "            tabledata.append(record_dict)\n",
    "    return pd.DataFrame(tabledata)"
   ]
  },
  {
   "cell_type": "markdown",
   "metadata": {},
   "source": [
    "### Git"
   ]
  },
  {
   "cell_type": "code",
   "execution_count": null,
   "metadata": {},
   "outputs": [],
   "source": [
    "# when you first set up git on a machine, you have to add your user name and email to the local or the global config file\n",
    "\n",
    "#For just one repo, go into to the relevant repo DIR and:\n",
    "git config user.name \"Your Name Here\"\n",
    "git config user.email your@email.example\n",
    "\n",
    "#For (global) default email (which is configured in your ~/.gitconfig):\n",
    "git config --global user.name \"Your Name Here\"\n",
    "git config --global user.email your@email.example\n",
    "\n",
    "#You can check your Git settings with: git config user.name && git config user.email\n"
   ]
  },
  {
   "cell_type": "markdown",
   "metadata": {},
   "source": [
    "### Function with two outputs"
   ]
  },
  {
   "cell_type": "code",
   "execution_count": 1,
   "metadata": {},
   "outputs": [
    {
     "data": {
      "text/plain": [
       "4"
      ]
     },
     "execution_count": 1,
     "metadata": {},
     "output_type": "execute_result"
    }
   ],
   "source": [
    "def dualfunction(numlist):\n",
    "    res1 = numlist[0]*2\n",
    "    res2 = numlist[1]*2\n",
    "    return res1, res2\n",
    "\n",
    "ans1, ans2 = dualfunction([2,3])\n",
    "ans1\n",
    "\n",
    "    "
   ]
  },
  {
   "cell_type": "markdown",
   "metadata": {},
   "source": [
    "### how to iterate through 2 lists at once:\n",
    "    "
   ]
  },
  {
   "cell_type": "code",
   "execution_count": 3,
   "metadata": {},
   "outputs": [
    {
     "name": "stdout",
     "output_type": "stream",
     "text": [
      "f b\n",
      "o a\n",
      "o r\n"
     ]
    }
   ],
   "source": [
    "foo = ['f','o','o']\n",
    "bar = ['b','a','r']\n",
    "\n",
    "for f, b in zip(foo, bar):\n",
    "    print(f, b)"
   ]
  },
  {
   "cell_type": "markdown",
   "metadata": {},
   "source": [
    "### experiment"
   ]
  },
  {
   "cell_type": "code",
   "execution_count": 2,
   "metadata": {
    "tags": []
   },
   "outputs": [
    {
     "name": "stdout",
     "output_type": "stream",
     "text": [
      "['C:\\\\Users\\\\mstan\\\\python_projects\\\\my_tools', 'C:\\\\Users\\\\mstan\\\\Anaconda3\\\\python37.zip', 'C:\\\\Users\\\\mstan\\\\Anaconda3\\\\DLLs', 'C:\\\\Users\\\\mstan\\\\Anaconda3\\\\lib', 'C:\\\\Users\\\\mstan\\\\Anaconda3', '', 'C:\\\\Users\\\\mstan\\\\AppData\\\\Roaming\\\\Python\\\\Python37\\\\site-packages', 'C:\\\\Users\\\\mstan\\\\Anaconda3\\\\lib\\\\site-packages', 'C:\\\\Users\\\\mstan\\\\Anaconda3\\\\lib\\\\site-packages\\\\win32', 'C:\\\\Users\\\\mstan\\\\Anaconda3\\\\lib\\\\site-packages\\\\win32\\\\lib', 'C:\\\\Users\\\\mstan\\\\Anaconda3\\\\lib\\\\site-packages\\\\Pythonwin', 'C:\\\\Users\\\\mstan\\\\Anaconda3\\\\lib\\\\site-packages\\\\IPython\\\\extensions', 'C:\\\\Users\\\\mstan\\\\.ipython']\n"
     ]
    }
   ],
   "source": [
    "from pathlib import Path\n",
    "import sys\n",
    "print(sys.path)"
   ]
  },
  {
   "cell_type": "code",
   "execution_count": null,
   "metadata": {},
   "outputs": [],
   "source": []
  }
 ],
 "metadata": {
  "kernelspec": {
   "display_name": "Python 3",
   "language": "python",
   "name": "python3"
  },
  "language_info": {
   "codemirror_mode": {
    "name": "ipython",
    "version": 3
   },
   "file_extension": ".py",
   "mimetype": "text/x-python",
   "name": "python",
   "nbconvert_exporter": "python",
   "pygments_lexer": "ipython3",
   "version": "3.7.4"
  }
 },
 "nbformat": 4,
 "nbformat_minor": 4
}

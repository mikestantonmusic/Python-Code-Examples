{
 "cells": [
  {
   "cell_type": "markdown",
   "metadata": {},
   "source": [
    "# Install and Import, View Data using PySpark Pandas API"
   ]
  },
  {
   "cell_type": "code",
   "execution_count": 1,
   "metadata": {},
   "outputs": [
    {
     "name": "stdout",
     "output_type": "stream",
     "text": [
      "Collecting pyspark\n",
      "  Downloading https://files.pythonhosted.org/packages/d1/48/cc321e742a93320c681b3c7a9fd405d518c6326c89da3d67e35b9868e941/pyspark-3.3.1.tar.gz (281.4MB)\n",
      "Collecting py4j==0.10.9.5 (from pyspark)\n",
      "  Downloading https://files.pythonhosted.org/packages/86/ec/60880978512d5569ca4bf32b3b4d7776a528ecf4bca4523936c98c92a3c8/py4j-0.10.9.5-py2.py3-none-any.whl (199kB)\n",
      "Building wheels for collected packages: pyspark\n",
      "  Building wheel for pyspark (setup.py): started\n",
      "  Building wheel for pyspark (setup.py): finished with status 'done'\n",
      "  Created wheel for pyspark: filename=pyspark-3.3.1-py2.py3-none-any.whl size=281845519 sha256=139a09e7e8f01ba4797691767b33278924125f2a95688a4c94849e9eb4945cb1\n",
      "  Stored in directory: C:\\Users\\mstan\\AppData\\Local\\pip\\Cache\\wheels\\e5\\cc\\9a\\0c20ee0940a9e80053edfe2270daee438f36037e1ff041c0ec\n",
      "Successfully built pyspark\n",
      "Installing collected packages: py4j, pyspark\n",
      "Successfully installed py4j-0.10.9.5 pyspark-3.3.1\n",
      "Note: you may need to restart the kernel to use updated packages.\n"
     ]
    }
   ],
   "source": [
    "#pip install pyspark"
   ]
  },
  {
   "cell_type": "code",
   "execution_count": 3,
   "metadata": {},
   "outputs": [
    {
     "name": "stdout",
     "output_type": "stream",
     "text": [
      "Collecting pyarrow\n",
      "  Downloading https://files.pythonhosted.org/packages/59/fd/75d9e45000f24543fced8942a46061af548dcfcb8ba3f1ebc88414f07143/pyarrow-11.0.0-cp37-cp37m-win_amd64.whl (20.6MB)\n",
      "Requirement already satisfied: numpy>=1.16.6 in c:\\users\\mstan\\appdata\\roaming\\python\\python37\\site-packages (from pyarrow) (1.21.5)\n",
      "Installing collected packages: pyarrow\n",
      "Successfully installed pyarrow-11.0.0\n",
      "Note: you may need to restart the kernel to use updated packages.\n"
     ]
    }
   ],
   "source": [
    "#pip install pyarrow"
   ]
  },
  {
   "cell_type": "code",
   "execution_count": 1,
   "metadata": {},
   "outputs": [],
   "source": [
    "import pyspark"
   ]
  },
  {
   "cell_type": "code",
   "execution_count": 2,
   "metadata": {},
   "outputs": [
    {
     "name": "stderr",
     "output_type": "stream",
     "text": [
      "WARNING:root:'PYARROW_IGNORE_TIMEZONE' environment variable was not set. It is required to set this environment variable to '1' in both driver and executor sides if you use pyarrow>=2.0.0. pandas-on-Spark will set it for you but it does not work if there is a Spark context already launched.\n"
     ]
    }
   ],
   "source": [
    "import pyspark.pandas as ps"
   ]
  },
  {
   "cell_type": "code",
   "execution_count": 9,
   "metadata": {},
   "outputs": [
    {
     "name": "stderr",
     "output_type": "stream",
     "text": [
      "C:\\Users\\mstan\\Anaconda3\\lib\\site-packages\\pyspark\\pandas\\utils.py:975: PandasAPIOnSparkAdviceWarning: If `index_col` is not specified for `read_csv`, the default index is attached which can cause additional overhead.\n",
      "  warnings.warn(message, PandasAPIOnSparkAdviceWarning)\n"
     ]
    },
    {
     "data": {
      "text/html": [
       "<div>\n",
       "<style scoped>\n",
       "    .dataframe tbody tr th:only-of-type {\n",
       "        vertical-align: middle;\n",
       "    }\n",
       "\n",
       "    .dataframe tbody tr th {\n",
       "        vertical-align: top;\n",
       "    }\n",
       "\n",
       "    .dataframe thead th {\n",
       "        text-align: right;\n",
       "    }\n",
       "</style>\n",
       "<table border=\"1\" class=\"dataframe\">\n",
       "  <thead>\n",
       "    <tr style=\"text-align: right;\">\n",
       "      <th></th>\n",
       "      <th>album</th>\n",
       "      <th>genre</th>\n",
       "      <th>listeners</th>\n",
       "      <th>streams</th>\n",
       "      <th>rating</th>\n",
       "    </tr>\n",
       "  </thead>\n",
       "  <tbody>\n",
       "    <tr>\n",
       "      <th>0</th>\n",
       "      <td>roses</td>\n",
       "      <td>rap</td>\n",
       "      <td>351.0</td>\n",
       "      <td>1138.0</td>\n",
       "      <td>6.0</td>\n",
       "    </tr>\n",
       "    <tr>\n",
       "      <th>1</th>\n",
       "      <td>jupiter</td>\n",
       "      <td>rap</td>\n",
       "      <td>135.0</td>\n",
       "      <td>6518.0</td>\n",
       "      <td>99.0</td>\n",
       "    </tr>\n",
       "    <tr>\n",
       "      <th>2</th>\n",
       "      <td>fire</td>\n",
       "      <td>rock</td>\n",
       "      <td>642.0</td>\n",
       "      <td>2491.0</td>\n",
       "      <td>7.0</td>\n",
       "    </tr>\n",
       "    <tr>\n",
       "      <th>3</th>\n",
       "      <td>venom</td>\n",
       "      <td>rock</td>\n",
       "      <td>786.0</td>\n",
       "      <td>3714.0</td>\n",
       "      <td>15.0</td>\n",
       "    </tr>\n",
       "    <tr>\n",
       "      <th>4</th>\n",
       "      <td>sky</td>\n",
       "      <td>classical</td>\n",
       "      <td>124.0</td>\n",
       "      <td>1142.0</td>\n",
       "      <td>18.0</td>\n",
       "    </tr>\n",
       "    <tr>\n",
       "      <th>5</th>\n",
       "      <td>danger</td>\n",
       "      <td>classical</td>\n",
       "      <td>123.0</td>\n",
       "      <td>6548.0</td>\n",
       "      <td>99.0</td>\n",
       "    </tr>\n",
       "    <tr>\n",
       "      <th>6</th>\n",
       "      <td>ocean</td>\n",
       "      <td>classical</td>\n",
       "      <td>NaN</td>\n",
       "      <td>NaN</td>\n",
       "      <td>20.0</td>\n",
       "    </tr>\n",
       "    <tr>\n",
       "      <th>7</th>\n",
       "      <td>None</td>\n",
       "      <td>None</td>\n",
       "      <td>364.0</td>\n",
       "      <td>3145.0</td>\n",
       "      <td>17.0</td>\n",
       "    </tr>\n",
       "    <tr>\n",
       "      <th>8</th>\n",
       "      <td>None</td>\n",
       "      <td>None</td>\n",
       "      <td>420.0</td>\n",
       "      <td>NaN</td>\n",
       "      <td>NaN</td>\n",
       "    </tr>\n",
       "  </tbody>\n",
       "</table>\n",
       "</div>"
      ],
      "text/plain": [
       "     album      genre  listeners  streams  rating\n",
       "0    roses        rap      351.0   1138.0     6.0\n",
       "1  jupiter        rap      135.0   6518.0    99.0\n",
       "2     fire       rock      642.0   2491.0     7.0\n",
       "3    venom       rock      786.0   3714.0    15.0\n",
       "4      sky  classical      124.0   1142.0    18.0\n",
       "5   danger  classical      123.0   6548.0    99.0\n",
       "6    ocean  classical        NaN      NaN    20.0\n",
       "7     None       None      364.0   3145.0    17.0\n",
       "8     None       None      420.0      NaN     NaN"
      ]
     },
     "execution_count": 9,
     "metadata": {},
     "output_type": "execute_result"
    }
   ],
   "source": [
    "df_pyspark = ps.read_csv('data/basic_csv_data.csv')\n",
    "df_pyspark"
   ]
  },
  {
   "cell_type": "code",
   "execution_count": 10,
   "metadata": {},
   "outputs": [
    {
     "data": {
      "text/plain": [
       "Index(['album', 'genre', 'listeners', 'streams', 'rating'], dtype='object')"
      ]
     },
     "execution_count": 10,
     "metadata": {},
     "output_type": "execute_result"
    }
   ],
   "source": [
    "df_pyspark.columns"
   ]
  },
  {
   "cell_type": "code",
   "execution_count": 11,
   "metadata": {},
   "outputs": [
    {
     "data": {
      "text/html": [
       "<div>\n",
       "<style scoped>\n",
       "    .dataframe tbody tr th:only-of-type {\n",
       "        vertical-align: middle;\n",
       "    }\n",
       "\n",
       "    .dataframe tbody tr th {\n",
       "        vertical-align: top;\n",
       "    }\n",
       "\n",
       "    .dataframe thead th {\n",
       "        text-align: right;\n",
       "    }\n",
       "</style>\n",
       "<table border=\"1\" class=\"dataframe\">\n",
       "  <thead>\n",
       "    <tr style=\"text-align: right;\">\n",
       "      <th></th>\n",
       "      <th>album</th>\n",
       "      <th>genre</th>\n",
       "      <th>listeners</th>\n",
       "      <th>streams</th>\n",
       "      <th>rating</th>\n",
       "    </tr>\n",
       "  </thead>\n",
       "  <tbody>\n",
       "    <tr>\n",
       "      <th>0</th>\n",
       "      <td>roses</td>\n",
       "      <td>rap</td>\n",
       "      <td>351</td>\n",
       "      <td>1138</td>\n",
       "      <td>6</td>\n",
       "    </tr>\n",
       "    <tr>\n",
       "      <th>1</th>\n",
       "      <td>jupiter</td>\n",
       "      <td>rap</td>\n",
       "      <td>135</td>\n",
       "      <td>6518</td>\n",
       "      <td>99</td>\n",
       "    </tr>\n",
       "  </tbody>\n",
       "</table>\n",
       "</div>"
      ],
      "text/plain": [
       "     album genre  listeners  streams  rating\n",
       "0    roses   rap        351     1138       6\n",
       "1  jupiter   rap        135     6518      99"
      ]
     },
     "execution_count": 11,
     "metadata": {},
     "output_type": "execute_result"
    }
   ],
   "source": [
    "df_pyspark.head(2)"
   ]
  },
  {
   "cell_type": "code",
   "execution_count": 12,
   "metadata": {},
   "outputs": [
    {
     "data": {
      "text/html": [
       "<div>\n",
       "<style scoped>\n",
       "    .dataframe tbody tr th:only-of-type {\n",
       "        vertical-align: middle;\n",
       "    }\n",
       "\n",
       "    .dataframe tbody tr th {\n",
       "        vertical-align: top;\n",
       "    }\n",
       "\n",
       "    .dataframe thead th {\n",
       "        text-align: right;\n",
       "    }\n",
       "</style>\n",
       "<table border=\"1\" class=\"dataframe\">\n",
       "  <thead>\n",
       "    <tr style=\"text-align: right;\">\n",
       "      <th></th>\n",
       "      <th>album</th>\n",
       "      <th>listeners</th>\n",
       "    </tr>\n",
       "  </thead>\n",
       "  <tbody>\n",
       "    <tr>\n",
       "      <th>0</th>\n",
       "      <td>roses</td>\n",
       "      <td>351.0</td>\n",
       "    </tr>\n",
       "    <tr>\n",
       "      <th>1</th>\n",
       "      <td>jupiter</td>\n",
       "      <td>135.0</td>\n",
       "    </tr>\n",
       "    <tr>\n",
       "      <th>2</th>\n",
       "      <td>fire</td>\n",
       "      <td>642.0</td>\n",
       "    </tr>\n",
       "    <tr>\n",
       "      <th>3</th>\n",
       "      <td>venom</td>\n",
       "      <td>786.0</td>\n",
       "    </tr>\n",
       "    <tr>\n",
       "      <th>4</th>\n",
       "      <td>sky</td>\n",
       "      <td>124.0</td>\n",
       "    </tr>\n",
       "    <tr>\n",
       "      <th>5</th>\n",
       "      <td>danger</td>\n",
       "      <td>123.0</td>\n",
       "    </tr>\n",
       "    <tr>\n",
       "      <th>6</th>\n",
       "      <td>ocean</td>\n",
       "      <td>NaN</td>\n",
       "    </tr>\n",
       "    <tr>\n",
       "      <th>7</th>\n",
       "      <td>None</td>\n",
       "      <td>364.0</td>\n",
       "    </tr>\n",
       "    <tr>\n",
       "      <th>8</th>\n",
       "      <td>None</td>\n",
       "      <td>420.0</td>\n",
       "    </tr>\n",
       "  </tbody>\n",
       "</table>\n",
       "</div>"
      ],
      "text/plain": [
       "     album  listeners\n",
       "0    roses      351.0\n",
       "1  jupiter      135.0\n",
       "2     fire      642.0\n",
       "3    venom      786.0\n",
       "4      sky      124.0\n",
       "5   danger      123.0\n",
       "6    ocean        NaN\n",
       "7     None      364.0\n",
       "8     None      420.0"
      ]
     },
     "execution_count": 12,
     "metadata": {},
     "output_type": "execute_result"
    }
   ],
   "source": [
    "df_pyspark[['album','listeners']] # fyi slicing will not work, seems to work without brackets \n",
    "# TODO check documentation"
   ]
  },
  {
   "cell_type": "code",
   "execution_count": 13,
   "metadata": {},
   "outputs": [
    {
     "data": {
      "text/plain": [
       "album        object\n",
       "genre        object\n",
       "listeners     int32\n",
       "streams       int32\n",
       "rating        int32\n",
       "dtype: object"
      ]
     },
     "execution_count": 13,
     "metadata": {},
     "output_type": "execute_result"
    }
   ],
   "source": [
    "df_pyspark.dtypes"
   ]
  },
  {
   "cell_type": "code",
   "execution_count": 15,
   "metadata": {},
   "outputs": [
    {
     "data": {
      "text/html": [
       "<div>\n",
       "<style scoped>\n",
       "    .dataframe tbody tr th:only-of-type {\n",
       "        vertical-align: middle;\n",
       "    }\n",
       "\n",
       "    .dataframe tbody tr th {\n",
       "        vertical-align: top;\n",
       "    }\n",
       "\n",
       "    .dataframe thead th {\n",
       "        text-align: right;\n",
       "    }\n",
       "</style>\n",
       "<table border=\"1\" class=\"dataframe\">\n",
       "  <thead>\n",
       "    <tr style=\"text-align: right;\">\n",
       "      <th></th>\n",
       "      <th>listeners</th>\n",
       "      <th>streams</th>\n",
       "      <th>rating</th>\n",
       "    </tr>\n",
       "  </thead>\n",
       "  <tbody>\n",
       "    <tr>\n",
       "      <th>count</th>\n",
       "      <td>8.000000</td>\n",
       "      <td>7.000000</td>\n",
       "      <td>8.000000</td>\n",
       "    </tr>\n",
       "    <tr>\n",
       "      <th>mean</th>\n",
       "      <td>368.125000</td>\n",
       "      <td>3528.000000</td>\n",
       "      <td>35.125000</td>\n",
       "    </tr>\n",
       "    <tr>\n",
       "      <th>std</th>\n",
       "      <td>246.883106</td>\n",
       "      <td>2262.824562</td>\n",
       "      <td>39.740003</td>\n",
       "    </tr>\n",
       "    <tr>\n",
       "      <th>min</th>\n",
       "      <td>123.000000</td>\n",
       "      <td>1138.000000</td>\n",
       "      <td>6.000000</td>\n",
       "    </tr>\n",
       "    <tr>\n",
       "      <th>25%</th>\n",
       "      <td>124.000000</td>\n",
       "      <td>1142.000000</td>\n",
       "      <td>7.000000</td>\n",
       "    </tr>\n",
       "    <tr>\n",
       "      <th>50%</th>\n",
       "      <td>351.000000</td>\n",
       "      <td>3145.000000</td>\n",
       "      <td>17.000000</td>\n",
       "    </tr>\n",
       "    <tr>\n",
       "      <th>75%</th>\n",
       "      <td>420.000000</td>\n",
       "      <td>6518.000000</td>\n",
       "      <td>20.000000</td>\n",
       "    </tr>\n",
       "    <tr>\n",
       "      <th>max</th>\n",
       "      <td>786.000000</td>\n",
       "      <td>6548.000000</td>\n",
       "      <td>99.000000</td>\n",
       "    </tr>\n",
       "  </tbody>\n",
       "</table>\n",
       "</div>"
      ],
      "text/plain": [
       "        listeners      streams     rating\n",
       "count    8.000000     7.000000   8.000000\n",
       "mean   368.125000  3528.000000  35.125000\n",
       "std    246.883106  2262.824562  39.740003\n",
       "min    123.000000  1138.000000   6.000000\n",
       "25%    124.000000  1142.000000   7.000000\n",
       "50%    351.000000  3145.000000  17.000000\n",
       "75%    420.000000  6518.000000  20.000000\n",
       "max    786.000000  6548.000000  99.000000"
      ]
     },
     "execution_count": 15,
     "metadata": {},
     "output_type": "execute_result"
    }
   ],
   "source": [
    "df_pyspark.describe()"
   ]
  },
  {
   "cell_type": "markdown",
   "metadata": {},
   "source": [
    "# Data Preprocessing with Pyspark"
   ]
  },
  {
   "cell_type": "code",
   "execution_count": 22,
   "metadata": {},
   "outputs": [
    {
     "data": {
      "text/html": [
       "<div>\n",
       "<style scoped>\n",
       "    .dataframe tbody tr th:only-of-type {\n",
       "        vertical-align: middle;\n",
       "    }\n",
       "\n",
       "    .dataframe tbody tr th {\n",
       "        vertical-align: top;\n",
       "    }\n",
       "\n",
       "    .dataframe thead th {\n",
       "        text-align: right;\n",
       "    }\n",
       "</style>\n",
       "<table border=\"1\" class=\"dataframe\">\n",
       "  <thead>\n",
       "    <tr style=\"text-align: right;\">\n",
       "      <th></th>\n",
       "      <th>album</th>\n",
       "      <th>genre</th>\n",
       "      <th>listeners</th>\n",
       "      <th>streams</th>\n",
       "      <th>rating</th>\n",
       "    </tr>\n",
       "  </thead>\n",
       "  <tbody>\n",
       "    <tr>\n",
       "      <th>0</th>\n",
       "      <td>roses</td>\n",
       "      <td>rap</td>\n",
       "      <td>351.0</td>\n",
       "      <td>1138.0</td>\n",
       "      <td>6</td>\n",
       "    </tr>\n",
       "    <tr>\n",
       "      <th>1</th>\n",
       "      <td>jupiter</td>\n",
       "      <td>rap</td>\n",
       "      <td>135.0</td>\n",
       "      <td>6518.0</td>\n",
       "      <td>99</td>\n",
       "    </tr>\n",
       "    <tr>\n",
       "      <th>2</th>\n",
       "      <td>fire</td>\n",
       "      <td>rock</td>\n",
       "      <td>642.0</td>\n",
       "      <td>2491.0</td>\n",
       "      <td>7</td>\n",
       "    </tr>\n",
       "    <tr>\n",
       "      <th>3</th>\n",
       "      <td>venom</td>\n",
       "      <td>rock</td>\n",
       "      <td>786.0</td>\n",
       "      <td>3714.0</td>\n",
       "      <td>15</td>\n",
       "    </tr>\n",
       "    <tr>\n",
       "      <th>4</th>\n",
       "      <td>sky</td>\n",
       "      <td>classical</td>\n",
       "      <td>124.0</td>\n",
       "      <td>1142.0</td>\n",
       "      <td>18</td>\n",
       "    </tr>\n",
       "    <tr>\n",
       "      <th>5</th>\n",
       "      <td>danger</td>\n",
       "      <td>classical</td>\n",
       "      <td>123.0</td>\n",
       "      <td>6548.0</td>\n",
       "      <td>99</td>\n",
       "    </tr>\n",
       "    <tr>\n",
       "      <th>6</th>\n",
       "      <td>ocean</td>\n",
       "      <td>classical</td>\n",
       "      <td>NaN</td>\n",
       "      <td>NaN</td>\n",
       "      <td>20</td>\n",
       "    </tr>\n",
       "    <tr>\n",
       "      <th>7</th>\n",
       "      <td>None</td>\n",
       "      <td>None</td>\n",
       "      <td>364.0</td>\n",
       "      <td>3145.0</td>\n",
       "      <td>17</td>\n",
       "    </tr>\n",
       "  </tbody>\n",
       "</table>\n",
       "</div>"
      ],
      "text/plain": [
       "     album      genre  listeners  streams  rating\n",
       "0    roses        rap      351.0   1138.0       6\n",
       "1  jupiter        rap      135.0   6518.0      99\n",
       "2     fire       rock      642.0   2491.0       7\n",
       "3    venom       rock      786.0   3714.0      15\n",
       "4      sky  classical      124.0   1142.0      18\n",
       "5   danger  classical      123.0   6548.0      99\n",
       "6    ocean  classical        NaN      NaN      20\n",
       "7     None       None      364.0   3145.0      17"
      ]
     },
     "execution_count": 22,
     "metadata": {},
     "output_type": "execute_result"
    }
   ],
   "source": [
    "df_pyspark.dropna(how='any', thresh = 2) # any is the default of how, \n",
    "# thresh is the number of non null values to be required in a row"
   ]
  },
  {
   "cell_type": "code",
   "execution_count": 24,
   "metadata": {},
   "outputs": [
    {
     "data": {
      "text/html": [
       "<div>\n",
       "<style scoped>\n",
       "    .dataframe tbody tr th:only-of-type {\n",
       "        vertical-align: middle;\n",
       "    }\n",
       "\n",
       "    .dataframe tbody tr th {\n",
       "        vertical-align: top;\n",
       "    }\n",
       "\n",
       "    .dataframe thead th {\n",
       "        text-align: right;\n",
       "    }\n",
       "</style>\n",
       "<table border=\"1\" class=\"dataframe\">\n",
       "  <thead>\n",
       "    <tr style=\"text-align: right;\">\n",
       "      <th></th>\n",
       "      <th>album</th>\n",
       "      <th>genre</th>\n",
       "      <th>listeners</th>\n",
       "      <th>streams</th>\n",
       "      <th>rating</th>\n",
       "    </tr>\n",
       "  </thead>\n",
       "  <tbody>\n",
       "    <tr>\n",
       "      <th>0</th>\n",
       "      <td>roses</td>\n",
       "      <td>rap</td>\n",
       "      <td>351.0</td>\n",
       "      <td>1138.0</td>\n",
       "      <td>6.0</td>\n",
       "    </tr>\n",
       "    <tr>\n",
       "      <th>1</th>\n",
       "      <td>jupiter</td>\n",
       "      <td>rap</td>\n",
       "      <td>135.0</td>\n",
       "      <td>6518.0</td>\n",
       "      <td>99.0</td>\n",
       "    </tr>\n",
       "    <tr>\n",
       "      <th>2</th>\n",
       "      <td>fire</td>\n",
       "      <td>rock</td>\n",
       "      <td>642.0</td>\n",
       "      <td>2491.0</td>\n",
       "      <td>7.0</td>\n",
       "    </tr>\n",
       "    <tr>\n",
       "      <th>3</th>\n",
       "      <td>venom</td>\n",
       "      <td>rock</td>\n",
       "      <td>786.0</td>\n",
       "      <td>3714.0</td>\n",
       "      <td>15.0</td>\n",
       "    </tr>\n",
       "    <tr>\n",
       "      <th>4</th>\n",
       "      <td>sky</td>\n",
       "      <td>classical</td>\n",
       "      <td>124.0</td>\n",
       "      <td>1142.0</td>\n",
       "      <td>18.0</td>\n",
       "    </tr>\n",
       "    <tr>\n",
       "      <th>5</th>\n",
       "      <td>danger</td>\n",
       "      <td>classical</td>\n",
       "      <td>123.0</td>\n",
       "      <td>6548.0</td>\n",
       "      <td>99.0</td>\n",
       "    </tr>\n",
       "    <tr>\n",
       "      <th>6</th>\n",
       "      <td>ocean</td>\n",
       "      <td>classical</td>\n",
       "      <td>NaN</td>\n",
       "      <td>NaN</td>\n",
       "      <td>20.0</td>\n",
       "    </tr>\n",
       "    <tr>\n",
       "      <th>7</th>\n",
       "      <td>None</td>\n",
       "      <td>None</td>\n",
       "      <td>364.0</td>\n",
       "      <td>3145.0</td>\n",
       "      <td>17.0</td>\n",
       "    </tr>\n",
       "    <tr>\n",
       "      <th>8</th>\n",
       "      <td>None</td>\n",
       "      <td>None</td>\n",
       "      <td>420.0</td>\n",
       "      <td>NaN</td>\n",
       "      <td>NaN</td>\n",
       "    </tr>\n",
       "  </tbody>\n",
       "</table>\n",
       "</div>"
      ],
      "text/plain": [
       "     album      genre  listeners  streams  rating\n",
       "0    roses        rap      351.0   1138.0     6.0\n",
       "1  jupiter        rap      135.0   6518.0    99.0\n",
       "2     fire       rock      642.0   2491.0     7.0\n",
       "3    venom       rock      786.0   3714.0    15.0\n",
       "4      sky  classical      124.0   1142.0    18.0\n",
       "5   danger  classical      123.0   6548.0    99.0\n",
       "6    ocean  classical        NaN      NaN    20.0\n",
       "7     None       None      364.0   3145.0    17.0\n",
       "8     None       None      420.0      NaN     NaN"
      ]
     },
     "execution_count": 24,
     "metadata": {},
     "output_type": "execute_result"
    }
   ],
   "source": [
    "df_pyspark.dropna(how='all')"
   ]
  },
  {
   "cell_type": "code",
   "execution_count": 25,
   "metadata": {},
   "outputs": [
    {
     "data": {
      "text/html": [
       "<div>\n",
       "<style scoped>\n",
       "    .dataframe tbody tr th:only-of-type {\n",
       "        vertical-align: middle;\n",
       "    }\n",
       "\n",
       "    .dataframe tbody tr th {\n",
       "        vertical-align: top;\n",
       "    }\n",
       "\n",
       "    .dataframe thead th {\n",
       "        text-align: right;\n",
       "    }\n",
       "</style>\n",
       "<table border=\"1\" class=\"dataframe\">\n",
       "  <thead>\n",
       "    <tr style=\"text-align: right;\">\n",
       "      <th></th>\n",
       "      <th>album</th>\n",
       "      <th>genre</th>\n",
       "      <th>listeners</th>\n",
       "      <th>streams</th>\n",
       "      <th>rating</th>\n",
       "    </tr>\n",
       "  </thead>\n",
       "  <tbody>\n",
       "    <tr>\n",
       "      <th>0</th>\n",
       "      <td>roses</td>\n",
       "      <td>rap</td>\n",
       "      <td>351.0</td>\n",
       "      <td>1138.0</td>\n",
       "      <td>6</td>\n",
       "    </tr>\n",
       "    <tr>\n",
       "      <th>1</th>\n",
       "      <td>jupiter</td>\n",
       "      <td>rap</td>\n",
       "      <td>135.0</td>\n",
       "      <td>6518.0</td>\n",
       "      <td>99</td>\n",
       "    </tr>\n",
       "    <tr>\n",
       "      <th>2</th>\n",
       "      <td>fire</td>\n",
       "      <td>rock</td>\n",
       "      <td>642.0</td>\n",
       "      <td>2491.0</td>\n",
       "      <td>7</td>\n",
       "    </tr>\n",
       "    <tr>\n",
       "      <th>3</th>\n",
       "      <td>venom</td>\n",
       "      <td>rock</td>\n",
       "      <td>786.0</td>\n",
       "      <td>3714.0</td>\n",
       "      <td>15</td>\n",
       "    </tr>\n",
       "    <tr>\n",
       "      <th>4</th>\n",
       "      <td>sky</td>\n",
       "      <td>classical</td>\n",
       "      <td>124.0</td>\n",
       "      <td>1142.0</td>\n",
       "      <td>18</td>\n",
       "    </tr>\n",
       "    <tr>\n",
       "      <th>5</th>\n",
       "      <td>danger</td>\n",
       "      <td>classical</td>\n",
       "      <td>123.0</td>\n",
       "      <td>6548.0</td>\n",
       "      <td>99</td>\n",
       "    </tr>\n",
       "    <tr>\n",
       "      <th>6</th>\n",
       "      <td>ocean</td>\n",
       "      <td>classical</td>\n",
       "      <td>NaN</td>\n",
       "      <td>NaN</td>\n",
       "      <td>20</td>\n",
       "    </tr>\n",
       "    <tr>\n",
       "      <th>7</th>\n",
       "      <td>None</td>\n",
       "      <td>None</td>\n",
       "      <td>364.0</td>\n",
       "      <td>3145.0</td>\n",
       "      <td>17</td>\n",
       "    </tr>\n",
       "  </tbody>\n",
       "</table>\n",
       "</div>"
      ],
      "text/plain": [
       "     album      genre  listeners  streams  rating\n",
       "0    roses        rap      351.0   1138.0       6\n",
       "1  jupiter        rap      135.0   6518.0      99\n",
       "2     fire       rock      642.0   2491.0       7\n",
       "3    venom       rock      786.0   3714.0      15\n",
       "4      sky  classical      124.0   1142.0      18\n",
       "5   danger  classical      123.0   6548.0      99\n",
       "6    ocean  classical        NaN      NaN      20\n",
       "7     None       None      364.0   3145.0      17"
      ]
     },
     "execution_count": 25,
     "metadata": {},
     "output_type": "execute_result"
    }
   ],
   "source": [
    "df_pyspark.dropna(subset='rating')"
   ]
  },
  {
   "cell_type": "code",
   "execution_count": 31,
   "metadata": {},
   "outputs": [],
   "source": [
    "# how to replace nans with the mean for each column\n"
   ]
  },
  {
   "cell_type": "code",
   "execution_count": 33,
   "metadata": {},
   "outputs": [
    {
     "data": {
      "text/html": [
       "<div>\n",
       "<style scoped>\n",
       "    .dataframe tbody tr th:only-of-type {\n",
       "        vertical-align: middle;\n",
       "    }\n",
       "\n",
       "    .dataframe tbody tr th {\n",
       "        vertical-align: top;\n",
       "    }\n",
       "\n",
       "    .dataframe thead th {\n",
       "        text-align: right;\n",
       "    }\n",
       "</style>\n",
       "<table border=\"1\" class=\"dataframe\">\n",
       "  <thead>\n",
       "    <tr style=\"text-align: right;\">\n",
       "      <th></th>\n",
       "      <th>album</th>\n",
       "      <th>genre</th>\n",
       "      <th>listeners</th>\n",
       "      <th>streams</th>\n",
       "      <th>rating</th>\n",
       "    </tr>\n",
       "  </thead>\n",
       "  <tbody>\n",
       "    <tr>\n",
       "      <th>0</th>\n",
       "      <td>roses</td>\n",
       "      <td>rap</td>\n",
       "      <td>351</td>\n",
       "      <td>1138</td>\n",
       "      <td>6</td>\n",
       "    </tr>\n",
       "    <tr>\n",
       "      <th>1</th>\n",
       "      <td>jupiter</td>\n",
       "      <td>rap</td>\n",
       "      <td>135</td>\n",
       "      <td>6518</td>\n",
       "      <td>99</td>\n",
       "    </tr>\n",
       "    <tr>\n",
       "      <th>2</th>\n",
       "      <td>fire</td>\n",
       "      <td>rock</td>\n",
       "      <td>642</td>\n",
       "      <td>2491</td>\n",
       "      <td>7</td>\n",
       "    </tr>\n",
       "    <tr>\n",
       "      <th>3</th>\n",
       "      <td>venom</td>\n",
       "      <td>rock</td>\n",
       "      <td>786</td>\n",
       "      <td>3714</td>\n",
       "      <td>15</td>\n",
       "    </tr>\n",
       "    <tr>\n",
       "      <th>4</th>\n",
       "      <td>sky</td>\n",
       "      <td>classical</td>\n",
       "      <td>124</td>\n",
       "      <td>1142</td>\n",
       "      <td>18</td>\n",
       "    </tr>\n",
       "    <tr>\n",
       "      <th>5</th>\n",
       "      <td>danger</td>\n",
       "      <td>classical</td>\n",
       "      <td>123</td>\n",
       "      <td>6548</td>\n",
       "      <td>99</td>\n",
       "    </tr>\n",
       "    <tr>\n",
       "      <th>6</th>\n",
       "      <td>ocean</td>\n",
       "      <td>classical</td>\n",
       "      <td>368</td>\n",
       "      <td>3528</td>\n",
       "      <td>20</td>\n",
       "    </tr>\n",
       "    <tr>\n",
       "      <th>7</th>\n",
       "      <td>None</td>\n",
       "      <td>None</td>\n",
       "      <td>364</td>\n",
       "      <td>3145</td>\n",
       "      <td>17</td>\n",
       "    </tr>\n",
       "    <tr>\n",
       "      <th>8</th>\n",
       "      <td>None</td>\n",
       "      <td>None</td>\n",
       "      <td>420</td>\n",
       "      <td>3528</td>\n",
       "      <td>35</td>\n",
       "    </tr>\n",
       "  </tbody>\n",
       "</table>\n",
       "</div>"
      ],
      "text/plain": [
       "     album      genre  listeners  streams  rating\n",
       "0    roses        rap        351     1138       6\n",
       "1  jupiter        rap        135     6518      99\n",
       "2     fire       rock        642     2491       7\n",
       "3    venom       rock        786     3714      15\n",
       "4      sky  classical        124     1142      18\n",
       "5   danger  classical        123     6548      99\n",
       "6    ocean  classical        368     3528      20\n",
       "7     None       None        364     3145      17\n",
       "8     None       None        420     3528      35"
      ]
     },
     "execution_count": 33,
     "metadata": {},
     "output_type": "execute_result"
    }
   ],
   "source": [
    "numeric_columns = ['listeners','streams','rating']\n",
    "for col in numeric_columns:\n",
    "    df_pyspark[col].fillna(int(df_pyspark[col].mean()), inplace=True)\n",
    "df_pyspark"
   ]
  },
  {
   "cell_type": "code",
   "execution_count": 34,
   "metadata": {},
   "outputs": [
    {
     "data": {
      "text/html": [
       "<div>\n",
       "<style scoped>\n",
       "    .dataframe tbody tr th:only-of-type {\n",
       "        vertical-align: middle;\n",
       "    }\n",
       "\n",
       "    .dataframe tbody tr th {\n",
       "        vertical-align: top;\n",
       "    }\n",
       "\n",
       "    .dataframe thead th {\n",
       "        text-align: right;\n",
       "    }\n",
       "</style>\n",
       "<table border=\"1\" class=\"dataframe\">\n",
       "  <thead>\n",
       "    <tr style=\"text-align: right;\">\n",
       "      <th></th>\n",
       "      <th>album</th>\n",
       "      <th>genre</th>\n",
       "      <th>listeners</th>\n",
       "      <th>streams</th>\n",
       "      <th>rating</th>\n",
       "      <th>streams_per_listener</th>\n",
       "    </tr>\n",
       "  </thead>\n",
       "  <tbody>\n",
       "    <tr>\n",
       "      <th>0</th>\n",
       "      <td>roses</td>\n",
       "      <td>rap</td>\n",
       "      <td>351</td>\n",
       "      <td>1138</td>\n",
       "      <td>6</td>\n",
       "      <td>3.242165</td>\n",
       "    </tr>\n",
       "    <tr>\n",
       "      <th>1</th>\n",
       "      <td>jupiter</td>\n",
       "      <td>rap</td>\n",
       "      <td>135</td>\n",
       "      <td>6518</td>\n",
       "      <td>99</td>\n",
       "      <td>48.281481</td>\n",
       "    </tr>\n",
       "    <tr>\n",
       "      <th>2</th>\n",
       "      <td>fire</td>\n",
       "      <td>rock</td>\n",
       "      <td>642</td>\n",
       "      <td>2491</td>\n",
       "      <td>7</td>\n",
       "      <td>3.880062</td>\n",
       "    </tr>\n",
       "    <tr>\n",
       "      <th>3</th>\n",
       "      <td>venom</td>\n",
       "      <td>rock</td>\n",
       "      <td>786</td>\n",
       "      <td>3714</td>\n",
       "      <td>15</td>\n",
       "      <td>4.725191</td>\n",
       "    </tr>\n",
       "    <tr>\n",
       "      <th>4</th>\n",
       "      <td>sky</td>\n",
       "      <td>classical</td>\n",
       "      <td>124</td>\n",
       "      <td>1142</td>\n",
       "      <td>18</td>\n",
       "      <td>9.209677</td>\n",
       "    </tr>\n",
       "    <tr>\n",
       "      <th>5</th>\n",
       "      <td>danger</td>\n",
       "      <td>classical</td>\n",
       "      <td>123</td>\n",
       "      <td>6548</td>\n",
       "      <td>99</td>\n",
       "      <td>53.235772</td>\n",
       "    </tr>\n",
       "    <tr>\n",
       "      <th>6</th>\n",
       "      <td>ocean</td>\n",
       "      <td>classical</td>\n",
       "      <td>368</td>\n",
       "      <td>3528</td>\n",
       "      <td>20</td>\n",
       "      <td>9.586957</td>\n",
       "    </tr>\n",
       "    <tr>\n",
       "      <th>7</th>\n",
       "      <td>None</td>\n",
       "      <td>None</td>\n",
       "      <td>364</td>\n",
       "      <td>3145</td>\n",
       "      <td>17</td>\n",
       "      <td>8.640110</td>\n",
       "    </tr>\n",
       "    <tr>\n",
       "      <th>8</th>\n",
       "      <td>None</td>\n",
       "      <td>None</td>\n",
       "      <td>420</td>\n",
       "      <td>3528</td>\n",
       "      <td>35</td>\n",
       "      <td>8.400000</td>\n",
       "    </tr>\n",
       "  </tbody>\n",
       "</table>\n",
       "</div>"
      ],
      "text/plain": [
       "     album      genre  listeners  streams  rating  streams_per_listener\n",
       "0    roses        rap        351     1138       6              3.242165\n",
       "1  jupiter        rap        135     6518      99             48.281481\n",
       "2     fire       rock        642     2491       7              3.880062\n",
       "3    venom       rock        786     3714      15              4.725191\n",
       "4      sky  classical        124     1142      18              9.209677\n",
       "5   danger  classical        123     6548      99             53.235772\n",
       "6    ocean  classical        368     3528      20              9.586957\n",
       "7     None       None        364     3145      17              8.640110\n",
       "8     None       None        420     3528      35              8.400000"
      ]
     },
     "execution_count": 34,
     "metadata": {},
     "output_type": "execute_result"
    }
   ],
   "source": [
    "df_pyspark['streams_per_listener'] = df_pyspark['streams']/df_pyspark['listeners']\n",
    "df_pyspark"
   ]
  },
  {
   "cell_type": "code",
   "execution_count": 42,
   "metadata": {},
   "outputs": [
    {
     "name": "stderr",
     "output_type": "stream",
     "text": [
      "C:\\Users\\mstan\\Anaconda3\\lib\\site-packages\\pyspark\\pandas\\generic.py:647: UserWarning: We recommend using `Series.to_numpy()` instead.\n",
      "  warnings.warn(\"We recommend using `{}.to_numpy()` instead.\".format(type(self).__name__))\n",
      "C:\\Users\\mstan\\Anaconda3\\lib\\site-packages\\pyspark\\pandas\\utils.py:975: PandasAPIOnSparkAdviceWarning: `to_numpy` loads all data into the driver's memory. It should only be used if the resulting NumPy ndarray is expected to be small.\n",
      "  warnings.warn(message, PandasAPIOnSparkAdviceWarning)\n"
     ]
    },
    {
     "ename": "TypeError",
     "evalue": "'numpy.ndarray' object is not callable",
     "output_type": "error",
     "traceback": [
      "\u001b[1;31m---------------------------------------------------------------------------\u001b[0m",
      "\u001b[1;31mTypeError\u001b[0m                                 Traceback (most recent call last)",
      "\u001b[1;32m<ipython-input-42-4a760474d1a3>\u001b[0m in \u001b[0;36m<module>\u001b[1;34m\u001b[0m\n\u001b[1;32m----> 1\u001b[1;33m \u001b[0mdf_pyspark\u001b[0m\u001b[1;33m[\u001b[0m\u001b[1;34m'streams'\u001b[0m\u001b[1;33m]\u001b[0m\u001b[1;33m.\u001b[0m\u001b[0mvalues\u001b[0m\u001b[1;33m(\u001b[0m\u001b[1;33m)\u001b[0m\u001b[1;33m\u001b[0m\u001b[1;33m\u001b[0m\u001b[0m\n\u001b[0m",
      "\u001b[1;31mTypeError\u001b[0m: 'numpy.ndarray' object is not callable"
     ]
    }
   ],
   "source": [
    "df_pyspark['streams'].values"
   ]
  },
  {
   "cell_type": "code",
   "execution_count": 47,
   "metadata": {},
   "outputs": [
    {
     "data": {
      "image/png": "[encoded data removed]",
      "text/plain": [
       "<Figure size 432x288 with 1 Axes>"
      ]
     },
     "metadata": {
      "needs_background": "light"
     },
     "output_type": "display_data"
    }
   ],
   "source": [
    "\n",
    "import matplotlib.pyplot as plt \n",
    "    \n",
    "\n",
    "x = df_pyspark['listeners'].values\n",
    "\n",
    "y = df_pyspark['streams'].values\n",
    "    \n",
    "\n",
    "plt.scatter(x, y,) \n",
    "    \n",
    "\n",
    "plt.xlabel('listeners') \n",
    "\n",
    "plt.ylabel('streams') \n",
    "    \n",
    " \n",
    "plt.title('listens vs streams') \n",
    "    \n",
    "\n",
    "plt.show() "
   ]
  },
  {
   "cell_type": "markdown",
   "metadata": {},
   "source": [
    "# Filter Operations"
   ]
  },
  {
   "cell_type": "code",
   "execution_count": 48,
   "metadata": {},
   "outputs": [
    {
     "data": {
      "text/html": [
       "<div>\n",
       "<style scoped>\n",
       "    .dataframe tbody tr th:only-of-type {\n",
       "        vertical-align: middle;\n",
       "    }\n",
       "\n",
       "    .dataframe tbody tr th {\n",
       "        vertical-align: top;\n",
       "    }\n",
       "\n",
       "    .dataframe thead th {\n",
       "        text-align: right;\n",
       "    }\n",
       "</style>\n",
       "<table border=\"1\" class=\"dataframe\">\n",
       "  <thead>\n",
       "    <tr style=\"text-align: right;\">\n",
       "      <th></th>\n",
       "      <th>album</th>\n",
       "      <th>genre</th>\n",
       "      <th>listeners</th>\n",
       "      <th>streams</th>\n",
       "      <th>rating</th>\n",
       "      <th>streams_per_listener</th>\n",
       "    </tr>\n",
       "  </thead>\n",
       "  <tbody>\n",
       "    <tr>\n",
       "      <th>1</th>\n",
       "      <td>jupiter</td>\n",
       "      <td>rap</td>\n",
       "      <td>135</td>\n",
       "      <td>6518</td>\n",
       "      <td>99</td>\n",
       "      <td>48.281481</td>\n",
       "    </tr>\n",
       "    <tr>\n",
       "      <th>5</th>\n",
       "      <td>danger</td>\n",
       "      <td>classical</td>\n",
       "      <td>123</td>\n",
       "      <td>6548</td>\n",
       "      <td>99</td>\n",
       "      <td>53.235772</td>\n",
       "    </tr>\n",
       "    <tr>\n",
       "      <th>6</th>\n",
       "      <td>ocean</td>\n",
       "      <td>classical</td>\n",
       "      <td>368</td>\n",
       "      <td>3528</td>\n",
       "      <td>20</td>\n",
       "      <td>9.586957</td>\n",
       "    </tr>\n",
       "    <tr>\n",
       "      <th>8</th>\n",
       "      <td>None</td>\n",
       "      <td>None</td>\n",
       "      <td>420</td>\n",
       "      <td>3528</td>\n",
       "      <td>35</td>\n",
       "      <td>8.400000</td>\n",
       "    </tr>\n",
       "  </tbody>\n",
       "</table>\n",
       "</div>"
      ],
      "text/plain": [
       "     album      genre  listeners  streams  rating  streams_per_listener\n",
       "1  jupiter        rap        135     6518      99             48.281481\n",
       "5   danger  classical        123     6548      99             53.235772\n",
       "6    ocean  classical        368     3528      20              9.586957\n",
       "8     None       None        420     3528      35              8.400000"
      ]
     },
     "execution_count": 48,
     "metadata": {},
     "output_type": "execute_result"
    }
   ],
   "source": [
    "df_pyspark.loc[df_pyspark['rating'] >= 20,:]"
   ]
  },
  {
   "cell_type": "code",
   "execution_count": 52,
   "metadata": {},
   "outputs": [
    {
     "data": {
      "text/html": [
       "<div>\n",
       "<style scoped>\n",
       "    .dataframe tbody tr th:only-of-type {\n",
       "        vertical-align: middle;\n",
       "    }\n",
       "\n",
       "    .dataframe tbody tr th {\n",
       "        vertical-align: top;\n",
       "    }\n",
       "\n",
       "    .dataframe thead th {\n",
       "        text-align: right;\n",
       "    }\n",
       "</style>\n",
       "<table border=\"1\" class=\"dataframe\">\n",
       "  <thead>\n",
       "    <tr style=\"text-align: right;\">\n",
       "      <th></th>\n",
       "      <th>album</th>\n",
       "      <th>genre</th>\n",
       "      <th>listeners</th>\n",
       "      <th>streams</th>\n",
       "      <th>rating</th>\n",
       "      <th>streams_per_listener</th>\n",
       "    </tr>\n",
       "  </thead>\n",
       "  <tbody>\n",
       "    <tr>\n",
       "      <th>2</th>\n",
       "      <td>fire</td>\n",
       "      <td>rock</td>\n",
       "      <td>642</td>\n",
       "      <td>2491</td>\n",
       "      <td>7</td>\n",
       "      <td>3.880062</td>\n",
       "    </tr>\n",
       "    <tr>\n",
       "      <th>3</th>\n",
       "      <td>venom</td>\n",
       "      <td>rock</td>\n",
       "      <td>786</td>\n",
       "      <td>3714</td>\n",
       "      <td>15</td>\n",
       "      <td>4.725191</td>\n",
       "    </tr>\n",
       "    <tr>\n",
       "      <th>6</th>\n",
       "      <td>ocean</td>\n",
       "      <td>classical</td>\n",
       "      <td>368</td>\n",
       "      <td>3528</td>\n",
       "      <td>20</td>\n",
       "      <td>9.586957</td>\n",
       "    </tr>\n",
       "    <tr>\n",
       "      <th>7</th>\n",
       "      <td>None</td>\n",
       "      <td>None</td>\n",
       "      <td>364</td>\n",
       "      <td>3145</td>\n",
       "      <td>17</td>\n",
       "      <td>8.640110</td>\n",
       "    </tr>\n",
       "    <tr>\n",
       "      <th>8</th>\n",
       "      <td>None</td>\n",
       "      <td>None</td>\n",
       "      <td>420</td>\n",
       "      <td>3528</td>\n",
       "      <td>35</td>\n",
       "      <td>8.400000</td>\n",
       "    </tr>\n",
       "  </tbody>\n",
       "</table>\n",
       "</div>"
      ],
      "text/plain": [
       "   album      genre  listeners  streams  rating  streams_per_listener\n",
       "2   fire       rock        642     2491       7              3.880062\n",
       "3  venom       rock        786     3714      15              4.725191\n",
       "6  ocean  classical        368     3528      20              9.586957\n",
       "7   None       None        364     3145      17              8.640110\n",
       "8   None       None        420     3528      35              8.400000"
      ]
     },
     "execution_count": 52,
     "metadata": {},
     "output_type": "execute_result"
    }
   ],
   "source": [
    "df_pyspark.loc[(df_pyspark['rating'] >= 7) & (df_pyspark['listeners'] >= 140),:]"
   ]
  },
  {
   "cell_type": "code",
   "execution_count": 53,
   "metadata": {},
   "outputs": [
    {
     "data": {
      "text/html": [
       "<div>\n",
       "<style scoped>\n",
       "    .dataframe tbody tr th:only-of-type {\n",
       "        vertical-align: middle;\n",
       "    }\n",
       "\n",
       "    .dataframe tbody tr th {\n",
       "        vertical-align: top;\n",
       "    }\n",
       "\n",
       "    .dataframe thead th {\n",
       "        text-align: right;\n",
       "    }\n",
       "</style>\n",
       "<table border=\"1\" class=\"dataframe\">\n",
       "  <thead>\n",
       "    <tr style=\"text-align: right;\">\n",
       "      <th></th>\n",
       "      <th>album</th>\n",
       "      <th>listeners</th>\n",
       "      <th>rating</th>\n",
       "    </tr>\n",
       "  </thead>\n",
       "  <tbody>\n",
       "    <tr>\n",
       "      <th>2</th>\n",
       "      <td>fire</td>\n",
       "      <td>642</td>\n",
       "      <td>7</td>\n",
       "    </tr>\n",
       "    <tr>\n",
       "      <th>3</th>\n",
       "      <td>venom</td>\n",
       "      <td>786</td>\n",
       "      <td>15</td>\n",
       "    </tr>\n",
       "    <tr>\n",
       "      <th>6</th>\n",
       "      <td>ocean</td>\n",
       "      <td>368</td>\n",
       "      <td>20</td>\n",
       "    </tr>\n",
       "    <tr>\n",
       "      <th>7</th>\n",
       "      <td>None</td>\n",
       "      <td>364</td>\n",
       "      <td>17</td>\n",
       "    </tr>\n",
       "    <tr>\n",
       "      <th>8</th>\n",
       "      <td>None</td>\n",
       "      <td>420</td>\n",
       "      <td>35</td>\n",
       "    </tr>\n",
       "  </tbody>\n",
       "</table>\n",
       "</div>"
      ],
      "text/plain": [
       "   album  listeners  rating\n",
       "2   fire        642       7\n",
       "3  venom        786      15\n",
       "6  ocean        368      20\n",
       "7   None        364      17\n",
       "8   None        420      35"
      ]
     },
     "execution_count": 53,
     "metadata": {},
     "output_type": "execute_result"
    }
   ],
   "source": [
    "df_pyspark.loc[(df_pyspark['rating'] >= 7) & (df_pyspark['listeners'] >= 140),['album','listeners','rating']]"
   ]
  },
  {
   "cell_type": "markdown",
   "metadata": {},
   "source": [
    "# Aggregate Functions"
   ]
  },
  {
   "cell_type": "code",
   "execution_count": 55,
   "metadata": {},
   "outputs": [
    {
     "data": {
      "text/html": [
       "<div>\n",
       "<style scoped>\n",
       "    .dataframe tbody tr th:only-of-type {\n",
       "        vertical-align: middle;\n",
       "    }\n",
       "\n",
       "    .dataframe tbody tr th {\n",
       "        vertical-align: top;\n",
       "    }\n",
       "\n",
       "    .dataframe thead th {\n",
       "        text-align: right;\n",
       "    }\n",
       "</style>\n",
       "<table border=\"1\" class=\"dataframe\">\n",
       "  <thead>\n",
       "    <tr style=\"text-align: right;\">\n",
       "      <th></th>\n",
       "      <th>listeners</th>\n",
       "      <th>streams</th>\n",
       "      <th>rating</th>\n",
       "      <th>streams_per_listener</th>\n",
       "    </tr>\n",
       "    <tr>\n",
       "      <th>genre</th>\n",
       "      <th></th>\n",
       "      <th></th>\n",
       "      <th></th>\n",
       "      <th></th>\n",
       "    </tr>\n",
       "  </thead>\n",
       "  <tbody>\n",
       "    <tr>\n",
       "      <th>rap</th>\n",
       "      <td>486</td>\n",
       "      <td>7656</td>\n",
       "      <td>105</td>\n",
       "      <td>51.523647</td>\n",
       "    </tr>\n",
       "    <tr>\n",
       "      <th>rock</th>\n",
       "      <td>1428</td>\n",
       "      <td>6205</td>\n",
       "      <td>22</td>\n",
       "      <td>8.605253</td>\n",
       "    </tr>\n",
       "    <tr>\n",
       "      <th>classical</th>\n",
       "      <td>615</td>\n",
       "      <td>11218</td>\n",
       "      <td>137</td>\n",
       "      <td>72.032406</td>\n",
       "    </tr>\n",
       "  </tbody>\n",
       "</table>\n",
       "</div>"
      ],
      "text/plain": [
       "           listeners  streams  rating  streams_per_listener\n",
       "genre                                                      \n",
       "rap              486     7656     105             51.523647\n",
       "rock            1428     6205      22              8.605253\n",
       "classical        615    11218     137             72.032406"
      ]
     },
     "execution_count": 55,
     "metadata": {},
     "output_type": "execute_result"
    }
   ],
   "source": [
    "df_pyspark.groupby('genre').sum()"
   ]
  },
  {
   "cell_type": "code",
   "execution_count": 56,
   "metadata": {},
   "outputs": [
    {
     "data": {
      "text/html": [
       "<div>\n",
       "<style scoped>\n",
       "    .dataframe tbody tr th:only-of-type {\n",
       "        vertical-align: middle;\n",
       "    }\n",
       "\n",
       "    .dataframe tbody tr th {\n",
       "        vertical-align: top;\n",
       "    }\n",
       "\n",
       "    .dataframe thead th {\n",
       "        text-align: right;\n",
       "    }\n",
       "</style>\n",
       "<table border=\"1\" class=\"dataframe\">\n",
       "  <thead>\n",
       "    <tr style=\"text-align: right;\">\n",
       "      <th></th>\n",
       "      <th>listeners</th>\n",
       "      <th>streams</th>\n",
       "      <th>rating</th>\n",
       "      <th>streams_per_listener</th>\n",
       "    </tr>\n",
       "    <tr>\n",
       "      <th>genre</th>\n",
       "      <th></th>\n",
       "      <th></th>\n",
       "      <th></th>\n",
       "      <th></th>\n",
       "    </tr>\n",
       "  </thead>\n",
       "  <tbody>\n",
       "    <tr>\n",
       "      <th>rap</th>\n",
       "      <td>243.0</td>\n",
       "      <td>3828.000000</td>\n",
       "      <td>52.500000</td>\n",
       "      <td>25.761823</td>\n",
       "    </tr>\n",
       "    <tr>\n",
       "      <th>rock</th>\n",
       "      <td>714.0</td>\n",
       "      <td>3102.500000</td>\n",
       "      <td>11.000000</td>\n",
       "      <td>4.302627</td>\n",
       "    </tr>\n",
       "    <tr>\n",
       "      <th>classical</th>\n",
       "      <td>205.0</td>\n",
       "      <td>3739.333333</td>\n",
       "      <td>45.666667</td>\n",
       "      <td>24.010802</td>\n",
       "    </tr>\n",
       "  </tbody>\n",
       "</table>\n",
       "</div>"
      ],
      "text/plain": [
       "           listeners      streams     rating  streams_per_listener\n",
       "genre                                                             \n",
       "rap            243.0  3828.000000  52.500000             25.761823\n",
       "rock           714.0  3102.500000  11.000000              4.302627\n",
       "classical      205.0  3739.333333  45.666667             24.010802"
      ]
     },
     "execution_count": 56,
     "metadata": {},
     "output_type": "execute_result"
    }
   ],
   "source": [
    "df_pyspark.groupby('genre').mean()"
   ]
  },
  {
   "cell_type": "markdown",
   "metadata": {},
   "source": [
    "# Turning a Pandas Data Frame back into a PySpark Data Frame"
   ]
  },
  {
   "cell_type": "code",
   "execution_count": 58,
   "metadata": {},
   "outputs": [
    {
     "name": "stdout",
     "output_type": "stream",
     "text": [
      "<class 'pyspark.pandas.frame.DataFrame'>\n",
      "<class 'pyspark.sql.dataframe.DataFrame'>\n"
     ]
    },
    {
     "name": "stderr",
     "output_type": "stream",
     "text": [
      "C:\\Users\\mstan\\Anaconda3\\lib\\site-packages\\pyspark\\pandas\\utils.py:975: PandasAPIOnSparkAdviceWarning: If `index_col` is not specified for `to_spark`, the existing index is lost when converting to Spark DataFrame.\n",
      "  warnings.warn(message, PandasAPIOnSparkAdviceWarning)\n"
     ]
    }
   ],
   "source": [
    "print(type(df_pyspark))\n",
    "df_pyspark = df_pyspark.to_spark()\n",
    "print(type(df_pyspark))"
   ]
  },
  {
   "cell_type": "markdown",
   "metadata": {},
   "source": [
    "# Regression with PySpark"
   ]
  },
  {
   "cell_type": "code",
   "execution_count": 59,
   "metadata": {},
   "outputs": [
    {
     "name": "stdout",
     "output_type": "stream",
     "text": [
      "+-------+---------+---------+-------+------+--------------------+--------------------+\n",
      "|  album|    genre|listeners|streams|rating|streams_per_listener|independent_features|\n",
      "+-------+---------+---------+-------+------+--------------------+--------------------+\n",
      "|  roses|      rap|      351|   1138|     6|   3.242165242165242|[351.0,1138.0,3.2...|\n",
      "|jupiter|      rap|      135|   6518|    99|   48.28148148148148|[135.0,6518.0,48....|\n",
      "|   fire|     rock|      642|   2491|     7|    3.88006230529595|[642.0,2491.0,3.8...|\n",
      "|  venom|     rock|      786|   3714|    15|  4.7251908396946565|[786.0,3714.0,4.7...|\n",
      "|    sky|classical|      124|   1142|    18|   9.209677419354838|[124.0,1142.0,9.2...|\n",
      "| danger|classical|      123|   6548|    99|  53.235772357723576|[123.0,6548.0,53....|\n",
      "|  ocean|classical|      368|   3528|    20|    9.58695652173913|[368.0,3528.0,9.5...|\n",
      "|   null|     null|      364|   3145|    17|    8.64010989010989|[364.0,3145.0,8.6...|\n",
      "|   null|     null|      420|   3528|    35|                 8.4|  [420.0,3528.0,8.4]|\n",
      "+-------+---------+---------+-------+------+--------------------+--------------------+\n",
      "\n"
     ]
    }
   ],
   "source": [
    "from pyspark.ml.feature import VectorAssembler\n",
    "\n",
    "featureassembler = VectorAssembler(inputCols = ['listeners','streams','streams_per_listener'], outputCol = 'independent_features')\n",
    "\n",
    "output = featureassembler.transform(df_pyspark)\n",
    "\n",
    "output.show()"
   ]
  },
  {
   "cell_type": "code",
   "execution_count": 60,
   "metadata": {},
   "outputs": [
    {
     "name": "stdout",
     "output_type": "stream",
     "text": [
      "+--------------------+------+\n",
      "|independent_features|rating|\n",
      "+--------------------+------+\n",
      "|[351.0,1138.0,3.2...|     6|\n",
      "|[135.0,6518.0,48....|    99|\n",
      "|[642.0,2491.0,3.8...|     7|\n",
      "|[786.0,3714.0,4.7...|    15|\n",
      "|[124.0,1142.0,9.2...|    18|\n",
      "|[123.0,6548.0,53....|    99|\n",
      "|[368.0,3528.0,9.5...|    20|\n",
      "|[364.0,3145.0,8.6...|    17|\n",
      "|  [420.0,3528.0,8.4]|    35|\n",
      "+--------------------+------+\n",
      "\n"
     ]
    }
   ],
   "source": [
    "regression_data = output.select(['independent_features', 'rating'])\n",
    "\n",
    "regression_data.show()"
   ]
  },
  {
   "cell_type": "code",
   "execution_count": 61,
   "metadata": {},
   "outputs": [],
   "source": [
    "from pyspark.ml.regression import LinearRegression\n",
    "\n",
    "train_data, test_data = regression_data.randomSplit([0.75, 0.25])\n",
    "\n",
    "regressor = LinearRegression(featuresCol = 'independent_features', labelCol = 'rating')"
   ]
  },
  {
   "cell_type": "code",
   "execution_count": 62,
   "metadata": {},
   "outputs": [
    {
     "data": {
      "text/plain": [
       "DenseVector([-0.0184, 0.006, 1.2081])"
      ]
     },
     "execution_count": 62,
     "metadata": {},
     "output_type": "execute_result"
    }
   ],
   "source": [
    "regressor.fit(regression_data).coefficients"
   ]
  },
  {
   "cell_type": "code",
   "execution_count": 63,
   "metadata": {},
   "outputs": [
    {
     "data": {
      "text/plain": [
       "0.8341156035419507"
      ]
     },
     "execution_count": 63,
     "metadata": {},
     "output_type": "execute_result"
    }
   ],
   "source": [
    "regressor.fit(regression_data).intercept"
   ]
  },
  {
   "cell_type": "code",
   "execution_count": 64,
   "metadata": {},
   "outputs": [
    {
     "name": "stdout",
     "output_type": "stream",
     "text": [
      "+--------------------+------+------------------+\n",
      "|independent_features|rating|        prediction|\n",
      "+--------------------+------+------------------+\n",
      "|[124.0,1142.0,9.2...|    18|16.479940339336288|\n",
      "|[364.0,3145.0,8.6...|    17|25.302399933994927|\n",
      "+--------------------+------+------------------+\n",
      "\n"
     ]
    }
   ],
   "source": [
    "pred_results = regressor.fit(train_data).evaluate(test_data)\n",
    "pred_results.predictions.show()"
   ]
  },
  {
   "cell_type": "code",
   "execution_count": 65,
   "metadata": {},
   "outputs": [
    {
     "data": {
      "text/plain": [
       "35.620213017988014"
      ]
     },
     "execution_count": 65,
     "metadata": {},
     "output_type": "execute_result"
    }
   ],
   "source": [
    "pred_results.meanSquaredError"
   ]
  },
  {
   "cell_type": "code",
   "execution_count": 66,
   "metadata": {},
   "outputs": [
    {
     "data": {
      "text/plain": [
       "4.9112297973293195"
      ]
     },
     "execution_count": 66,
     "metadata": {},
     "output_type": "execute_result"
    }
   ],
   "source": [
    "pred_results.meanAbsoluteError"
   ]
  },
  {
   "cell_type": "code",
   "execution_count": null,
   "metadata": {},
   "outputs": [],
   "source": [
    "#pip uninstall pyarrow"
   ]
  },
  {
   "cell_type": "code",
   "execution_count": null,
   "metadata": {},
   "outputs": [],
   "source": []
  }
 ],
 "metadata": {
  "kernelspec": {
   "display_name": "Python 3",
   "language": "python",
   "name": "python3"
  },
  "language_info": {
   "codemirror_mode": {
    "name": "ipython",
    "version": 3
   },
   "file_extension": ".py",
   "mimetype": "text/x-python",
   "name": "python",
   "nbconvert_exporter": "python",
   "pygments_lexer": "ipython3",
   "version": "3.7.4"
  }
 },
 "nbformat": 4,
 "nbformat_minor": 4
}

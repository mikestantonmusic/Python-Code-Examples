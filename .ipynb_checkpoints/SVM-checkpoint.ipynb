{
 "cells": [
  {
   "cell_type": "code",
   "execution_count": 5,
   "id": "3ffc210f-3b26-499b-b234-29d579aafd49",
   "metadata": {},
   "outputs": [
    {
     "name": "stdout",
     "output_type": "stream",
     "text": [
      "Average accuracy score: 0.9400000000000001\n"
     ]
    }
   ],
   "source": [
    "# Import necessary libraries\n",
    "from sklearn import svm\n",
    "from sklearn.model_selection import KFold\n",
    "from sklearn.datasets import make_classification\n",
    "\n",
    "# Create a sample dataset\n",
    "X, y = make_classification(n_samples=100, n_features=4, random_state=0)\n",
    "\n",
    "# Define the SVM model\n",
    "model = svm.SVC(kernel='linear')\n",
    "\n",
    "# Define the number of folds for cross-validation\n",
    "n_folds = 5\n",
    "\n",
    "# Define the KFold object for cross-validation\n",
    "kf = KFold(n_splits=n_folds)\n",
    "\n",
    "# Initialize a list to store the accuracy scores for each fold\n",
    "accuracy_scores = []\n",
    "\n",
    "# Loop through each fold\n",
    "for train_index, test_index in kf.split(X):\n",
    "    # Split the data into training and testing sets for this fold\n",
    "    X_train, X_test = X[train_index], X[test_index]\n",
    "    y_train, y_test = y[train_index], y[test_index]\n",
    "    \n",
    "    # Fit the model on the training data for this fold\n",
    "    model.fit(X_train, y_train)\n",
    "    \n",
    "    # Predict the classes of the test data for this fold\n",
    "    y_pred = model.predict(X_test)\n",
    "    \n",
    "    # Calculate the accuracy score for this fold\n",
    "    accuracy = sum(y_pred == y_test) / len(y_test)\n",
    "    \n",
    "    # Add the accuracy score for this fold to the list\n",
    "    accuracy_scores.append(accuracy)\n",
    "\n",
    "# Print the average accuracy score over all folds\n",
    "print(\"Average accuracy score:\", sum(accuracy_scores) / n_folds)"
   ]
  },
  {
   "cell_type": "code",
   "execution_count": null,
   "id": "45edb72a-a851-4dae-813a-c71bc0bbb967",
   "metadata": {},
   "outputs": [],
   "source": []
  }
 ],
 "metadata": {
  "kernelspec": {
   "display_name": "Python 3 (ipykernel)",
   "language": "python",
   "name": "python3"
  },
  "language_info": {
   "codemirror_mode": {
    "name": "ipython",
    "version": 3
   },
   "file_extension": ".py",
   "mimetype": "text/x-python",
   "name": "python",
   "nbconvert_exporter": "python",
   "pygments_lexer": "ipython3",
   "version": "3.9.12"
  }
 },
 "nbformat": 4,
 "nbformat_minor": 5
}

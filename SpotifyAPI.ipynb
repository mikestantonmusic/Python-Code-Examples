{
 "cells": [
  {
   "cell_type": "code",
   "execution_count": 1,
   "metadata": {},
   "outputs": [],
   "source": [
    "#pip install spotipy"
   ]
  },
  {
   "cell_type": "code",
   "execution_count": 2,
   "metadata": {},
   "outputs": [],
   "source": [
    "#pip install tqdm"
   ]
  },
  {
   "cell_type": "code",
   "execution_count": 3,
   "metadata": {},
   "outputs": [],
   "source": [
    "#pip install pymongo"
   ]
  },
  {
   "cell_type": "code",
   "execution_count": 1,
   "metadata": {},
   "outputs": [
    {
     "name": "stdout",
     "output_type": "stream",
     "text": [
      "initializing...\n"
     ]
    }
   ],
   "source": [
    "print('initializing...')\n",
    "\n",
    "# import libraries\n",
    "\n",
    "import configparser\n",
    "from configparser import ConfigParser\n",
    "import os\n",
    "import spotipy\n",
    "from spotipy.oauth2 import SpotifyClientCredentials\n",
    "import json\n",
    "import time\n",
    "from tqdm import tqdm\n",
    "import os\n",
    "import boto3\n",
    "import pymongo\n",
    "import json\n",
    "import csv\n",
    "from bson import json_util"
   ]
  },
  {
   "cell_type": "code",
   "execution_count": 2,
   "metadata": {},
   "outputs": [],
   "source": [
    "# place the config files outside of the current directory \n",
    "# this will set the location of the config files as the parent directory\n",
    "\n",
    "curr_path = os.getcwd()\n",
    "config_path = os.path.abspath(os.path.join(curr_path, os.pardir))\n",
    "\n",
    "general_config = configparser.ConfigParser()\n",
    "general_config.read(config_path+'\\\\'+'general_config.ini')\n",
    "\n",
    "config = configparser.ConfigParser()\n",
    "config.read(config_path+'\\\\'+'spotify_data_proj.ini')\n",
    "\n",
    "\n",
    "# set up Spotify API client credentials\n",
    "\n",
    "client_id = config['credentials']['client_id']\n",
    "client_secret = config['credentials']['client_secret']\n",
    "client_credentials_manager = SpotifyClientCredentials(client_id=client_id, client_secret=client_secret)\n",
    "sp = spotipy.Spotify(client_credentials_manager=client_credentials_manager)\n",
    "\n",
    "\n",
    "# set up credentials for AWS. can probably delete this section because AWS output is no longer being used\n",
    "\n",
    "# general settings\n",
    "os.environ['AWS_ACCESS_KEY_ID'] = general_config['s3_access']['access_key_id']\n",
    "os.environ['AWS_SECRET_ACCESS_KEY'] = general_config['s3_access']['secret_access_key']\n",
    "bucket_name = general_config['s3_access']['bucket_name']\n",
    "\n",
    "# project specific settings\n",
    "s3_object_name = config['s3_access']['object_name']\n",
    "local_file_path = config['s3_access']['local_file_path']\n",
    "\n",
    "# set up credentials for MongoDB\n",
    "\n",
    "# general settings\n",
    "mongodb_pw = general_config['mongodb_access']['password']\n",
    "mongodb_username = general_config['mongodb_access']['username']\n",
    "\n",
    "# project specific settings\n",
    "mongodb_cluster = config['mongodb_access']['cluster_name']\n",
    "mongodb_db = config['mongodb_access']['database']\n",
    "mongodb_dbname = config['mongodb_access']['dbname']\n",
    "mongodb_collection = config['mongodb_access']['collection']\n"
   ]
  },
  {
   "cell_type": "code",
   "execution_count": 38,
   "metadata": {
    "tags": []
   },
   "outputs": [
    {
     "name": "stdin",
     "output_type": "stream",
     "text": [
      "each batch contains track data for 50 artists. how many batches would you like to retrieve? 20\n"
     ]
    },
    {
     "name": "stderr",
     "output_type": "stream",
     "text": [
      "generating list of top artists: 100%|██████████| 20/20 [00:18<00:00,  1.09it/s]\n"
     ]
    }
   ],
   "source": [
    "# get the number of batches from the user\n",
    "\n",
    "num_batches = int(input('each batch contains track data for 50 artists. how many batches would you like to retrieve?'))\n",
    "\n",
    "\n",
    "# get a list of the top artist IDs, 50 at a time\n",
    "\n",
    "offst=0\n",
    "top_artist_list = []\n",
    "\n",
    "for i in tqdm(range(0,num_batches), desc = 'generating list of top artists'):\n",
    "    top_artists = sp.search(q='year:2023' , type='artist', offset = offst, limit=50)\n",
    "    for artist in top_artists['artists']['items']:\n",
    "        top_artist_list.append(artist['id'])\n",
    "    offst=offst+50\n",
    "    time.sleep(0.1)"
   ]
  },
  {
   "cell_type": "code",
   "execution_count": 3,
   "metadata": {},
   "outputs": [],
   "source": [
    "# define your MongoDB Atlas connection using PyMongo\n",
    "\n",
    "client = pymongo.MongoClient(\"mongodb+srv://\"+mongodb_username+\":\"+mongodb_pw+\"@\"+mongodb_cluster+\".\"+mongodb_db+\".mongodb.net/?retryWrites=true&w=majority\")\n",
    "\n",
    "\n",
    "# select variables for the database and collection you want to upload to using the pymongo syntax\n",
    "\n",
    "mongodb_db_var = client[mongodb_dbname]\n",
    "mongodb_collection_var = mongodb_db_var[mongodb_collection]"
   ]
  },
  {
   "cell_type": "code",
   "execution_count": 39,
   "metadata": {
    "tags": []
   },
   "outputs": [
    {
     "name": "stderr",
     "output_type": "stream",
     "text": [
      "retrieving track data for each artist: 100%|██████████| 1000/1000 [08:09<00:00,  2.04it/s]"
     ]
    },
    {
     "name": "stdout",
     "output_type": "stream",
     "text": [
      "data retrieval complete\n"
     ]
    },
    {
     "name": "stderr",
     "output_type": "stream",
     "text": [
      "\n"
     ]
    }
   ],
   "source": [
    "# retrieve the track data from the API for each artist\n",
    "\n",
    "for i in tqdm(range(len(top_artist_list)), desc = \"retrieving track data for each artist\"):\n",
    "    artist_tracks = sp.artist_top_tracks(artist_id=top_artist_list[i], country=\"US\")[\"tracks\"]\n",
    "\n",
    "    # write the data for each track to the MongoDB collection\n",
    "\n",
    "    for track in artist_tracks:                         \n",
    "        mongodb_collection_var.insert_one(track)\n",
    "\n",
    "    offst = offst+50\n",
    "    time.sleep(0.1)\n",
    "\n",
    "print('data retrieval complete')"
   ]
  },
  {
   "cell_type": "code",
   "execution_count": 37,
   "metadata": {},
   "outputs": [
    {
     "name": "stdout",
     "output_type": "stream",
     "text": [
      "4670 documents deleted.\n"
     ]
    }
   ],
   "source": [
    "# if you need to delete everything from your MongoDB collection and start over...\n",
    "\n",
    "#result = mongodb_collection_var.delete_many({})\n",
    "#print(result.deleted_count, \"documents deleted.\")"
   ]
  },
  {
   "cell_type": "code",
   "execution_count": 4,
   "metadata": {},
   "outputs": [],
   "source": [
    "# write and define the mongodb query\n",
    "\n",
    "query = {}\n",
    "projection = {\"album\":0, \"href\":0, \"external_urls\":0, \"images\":0, \"artists\":0, \"external_urls\":0}\n",
    "\n",
    "# export data to csv on s3\n",
    "\n",
    "cursor = mongodb_collection_var.find(query, projection)\n",
    "\n",
    "# set up csv writer fields\n",
    "\n",
    "csv_headers = ['_id', 'disc_number', 'duration_ms', 'explicit', 'external_ids', 'id', 'is_local', 'is_playable', 'name', 'popularity', 'preview_url', 'track_number', 'type', 'uri']\n",
    "\n",
    "# create the csv file and write the header row\n",
    "\n",
    "with open(local_file_path, 'w', newline='', encoding='utf-8') as csvfile:\n",
    "    writer = csv.DictWriter(csvfile, fieldnames=csv_headers)\n",
    "    writer.writeheader()\n",
    "\n",
    "    # write each document to the CSV file\n",
    "    \n",
    "    for document in cursor:\n",
    "        writer.writerow(document)\n",
    "\n",
    "# don't close the MongoDB connection until you are done using MongoDB!\n",
    "\n",
    "client.close()"
   ]
  },
  {
   "cell_type": "code",
   "execution_count": 5,
   "metadata": {},
   "outputs": [],
   "source": [
    "# Set up S3 client, and upload csv file to s3\n",
    "\n",
    "s3 = boto3.client('s3')\n",
    "s3.upload_file(local_file_path, bucket_name, s3_object_name)"
   ]
  },
  {
   "cell_type": "code",
   "execution_count": 14,
   "metadata": {},
   "outputs": [],
   "source": []
  },
  {
   "cell_type": "code",
   "execution_count": null,
   "metadata": {},
   "outputs": [],
   "source": []
  }
 ],
 "metadata": {
  "kernelspec": {
   "display_name": "Python 3 (ipykernel)",
   "language": "python",
   "name": "python3"
  },
  "language_info": {
   "codemirror_mode": {
    "name": "ipython",
    "version": 3
   },
   "file_extension": ".py",
   "mimetype": "text/x-python",
   "name": "python",
   "nbconvert_exporter": "python",
   "pygments_lexer": "ipython3",
   "version": "3.9.12"
  }
 },
 "nbformat": 4,
 "nbformat_minor": 4
}

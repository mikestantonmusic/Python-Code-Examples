{
 "cells": [
  {
   "cell_type": "code",
   "execution_count": 1,
   "metadata": {},
   "outputs": [],
   "source": [
    "#pip install spotipy"
   ]
  },
  {
   "cell_type": "code",
   "execution_count": 2,
   "metadata": {},
   "outputs": [],
   "source": [
    "#pip install tqdm"
   ]
  },
  {
   "cell_type": "code",
   "execution_count": 3,
   "metadata": {},
   "outputs": [
    {
     "name": "stdout",
     "output_type": "stream",
     "text": [
      "initializing...\n"
     ]
    }
   ],
   "source": [
    "# import libraries\n",
    "\n",
    "print('initializing...')\n",
    "\n",
    "import configparser\n",
    "from configparser import ConfigParser\n",
    "import os\n",
    "import spotipy\n",
    "from spotipy.oauth2 import SpotifyClientCredentials\n",
    "import json\n",
    "import time\n",
    "from tqdm import tqdm"
   ]
  },
  {
   "cell_type": "code",
   "execution_count": 4,
   "metadata": {},
   "outputs": [],
   "source": [
    "# place the config file outside of the current directory\n",
    "# this will set to the config file as the parent directory\n",
    "\n",
    "curr_path = os.getcwd()\n",
    "config_path = os.path.abspath(os.path.join(curr_path, os.pardir))\n",
    "config = configparser.ConfigParser()\n",
    "config.read(config_path+'\\\\'+'spotify_data_proj.ini')\n",
    "\n",
    "\n",
    "# set up client credentials\n",
    "\n",
    "client_id = config['credentials']['client_id']\n",
    "client_secret = config['credentials']['client_secret']\n",
    "client_credentials_manager = SpotifyClientCredentials(client_id=client_id, client_secret=client_secret)\n",
    "sp = spotipy.Spotify(client_credentials_manager=client_credentials_manager)"
   ]
  },
  {
   "cell_type": "code",
   "execution_count": 5,
   "metadata": {
    "tags": []
   },
   "outputs": [
    {
     "name": "stdin",
     "output_type": "stream",
     "text": [
      "each batch contains track data for 50 artists. how many batches would you like to retrieve? 5\n"
     ]
    },
    {
     "name": "stderr",
     "output_type": "stream",
     "text": [
      "generating list of top artists: 100%|██████████| 5/5 [00:02<00:00,  1.85it/s]\n"
     ]
    }
   ],
   "source": [
    "# get the number of batches from the user\n",
    "\n",
    "num_batches = int(input('each batch contains track data for 50 artists. how many batches would you like to retrieve?'))\n",
    "\n",
    "\n",
    "# get a list of the top artist IDs, 50 at a time\n",
    "\n",
    "offst=0\n",
    "top_artist_list = []\n",
    "\n",
    "for i in tqdm(range(0,num_batches), desc = 'generating list of top artists'):\n",
    "    top_artists = sp.search(q='year:2023' , type='artist', offset = offst, limit=50)\n",
    "    for artist in top_artists['artists']['items']:\n",
    "        top_artist_list.append(artist['id'])\n",
    "    offst=offst+50\n",
    "    time.sleep(0.1)"
   ]
  },
  {
   "cell_type": "code",
   "execution_count": 6,
   "metadata": {},
   "outputs": [
    {
     "name": "stderr",
     "output_type": "stream",
     "text": [
      "retrieving track data for each artist: 100%|██████████| 250/250 [01:03<00:00,  3.93it/s]"
     ]
    },
    {
     "name": "stdout",
     "output_type": "stream",
     "text": [
      "data retrieval complete\n"
     ]
    },
    {
     "name": "stderr",
     "output_type": "stream",
     "text": [
      "\n"
     ]
    }
   ],
   "source": [
    "# open a JSON file for writing\n",
    "\n",
    "with open('spotify_data.json', 'w') as f:\n",
    "    f.write('[')\n",
    "    \n",
    "    # retrieve the track data from the API for each artist\n",
    "    \n",
    "    for i in tqdm(range(len(top_artist_list)), desc = \"retrieving track data for each artist\"):\n",
    "        artist_tracks = sp.artist_top_tracks(artist_id=top_artist_list[i], country=\"US\")[\"tracks\"]\n",
    "\n",
    "        # write the data for each track to the JSON file\n",
    "        \n",
    "        for track in artist_tracks:                \n",
    "            json.dump(track, f)\n",
    "            f.write(',')\n",
    "            f.write('\\n')\n",
    "\n",
    "        offst = offst+50\n",
    "        time.sleep(0.1)\n",
    "        \n",
    "    f.write(']')\n",
    "\n",
    "print('data retrieval complete')"
   ]
  }
 ],
 "metadata": {
  "kernelspec": {
   "display_name": "Python 3 (ipykernel)",
   "language": "python",
   "name": "python3"
  },
  "language_info": {
   "codemirror_mode": {
    "name": "ipython",
    "version": 3
   },
   "file_extension": ".py",
   "mimetype": "text/x-python",
   "name": "python",
   "nbconvert_exporter": "python",
   "pygments_lexer": "ipython3",
   "version": "3.9.12"
  }
 },
 "nbformat": 4,
 "nbformat_minor": 4
}

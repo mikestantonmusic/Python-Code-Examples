{
 "cells": [
  {
   "cell_type": "code",
   "execution_count": 107,
   "id": "4f77d2b8-0062-429a-b181-5e581e558f42",
   "metadata": {},
   "outputs": [],
   "source": [
    "#pip install nltk"
   ]
  },
  {
   "cell_type": "code",
   "execution_count": 113,
   "id": "7a87bab3",
   "metadata": {},
   "outputs": [
    {
     "data": {
      "text/html": [
       "<div>\n",
       "<style scoped>\n",
       "    .dataframe tbody tr th:only-of-type {\n",
       "        vertical-align: middle;\n",
       "    }\n",
       "\n",
       "    .dataframe tbody tr th {\n",
       "        vertical-align: top;\n",
       "    }\n",
       "\n",
       "    .dataframe thead th {\n",
       "        text-align: right;\n",
       "    }\n",
       "</style>\n",
       "<table border=\"1\" class=\"dataframe\">\n",
       "  <thead>\n",
       "    <tr style=\"text-align: right;\">\n",
       "      <th></th>\n",
       "      <th>Company</th>\n",
       "      <th>Slogan</th>\n",
       "    </tr>\n",
       "  </thead>\n",
       "  <tbody>\n",
       "    <tr>\n",
       "      <th>0</th>\n",
       "      <td>Costa Coffee</td>\n",
       "      <td>For coffee lovers.</td>\n",
       "    </tr>\n",
       "    <tr>\n",
       "      <th>1</th>\n",
       "      <td>Evian</td>\n",
       "      <td>Evian. Live young.</td>\n",
       "    </tr>\n",
       "    <tr>\n",
       "      <th>2</th>\n",
       "      <td>Dasani</td>\n",
       "      <td>Designed to make a difference.</td>\n",
       "    </tr>\n",
       "  </tbody>\n",
       "</table>\n",
       "</div>"
      ],
      "text/plain": [
       "        Company                          Slogan\n",
       "0  Costa Coffee              For coffee lovers.\n",
       "1         Evian              Evian. Live young.\n",
       "2        Dasani  Designed to make a difference."
      ]
     },
     "execution_count": 113,
     "metadata": {},
     "output_type": "execute_result"
    }
   ],
   "source": [
    "import pandas as pd\n",
    "import re\n",
    "import nltk\n",
    "from nltk.corpus import stopwords\n",
    "from nltk.tokenize import word_tokenize\n",
    "from nltk.probability import FreqDist\n",
    "\n",
    "#nltk.download('punkt')\n",
    "#nltk.download(\"stopwords\")\n",
    "\n",
    "data = pd.read_csv('data/SloganData_textanalysis.csv')\n",
    "data.head(3)"
   ]
  },
  {
   "cell_type": "code",
   "execution_count": 115,
   "id": "ba7d2f8c",
   "metadata": {},
   "outputs": [
    {
     "data": {
      "text/html": [
       "<div>\n",
       "<style scoped>\n",
       "    .dataframe tbody tr th:only-of-type {\n",
       "        vertical-align: middle;\n",
       "    }\n",
       "\n",
       "    .dataframe tbody tr th {\n",
       "        vertical-align: top;\n",
       "    }\n",
       "\n",
       "    .dataframe thead th {\n",
       "        text-align: right;\n",
       "    }\n",
       "</style>\n",
       "<table border=\"1\" class=\"dataframe\">\n",
       "  <thead>\n",
       "    <tr style=\"text-align: right;\">\n",
       "      <th></th>\n",
       "      <th>Company</th>\n",
       "      <th>Slogan</th>\n",
       "      <th>text_token</th>\n",
       "    </tr>\n",
       "  </thead>\n",
       "  <tbody>\n",
       "    <tr>\n",
       "      <th>0</th>\n",
       "      <td>Costa Coffee</td>\n",
       "      <td>For coffee lovers.</td>\n",
       "      <td>[coffee, lovers]</td>\n",
       "    </tr>\n",
       "    <tr>\n",
       "      <th>1</th>\n",
       "      <td>Evian</td>\n",
       "      <td>Evian. Live young.</td>\n",
       "      <td>[evian, live, young]</td>\n",
       "    </tr>\n",
       "    <tr>\n",
       "      <th>2</th>\n",
       "      <td>Dasani</td>\n",
       "      <td>Designed to make a difference.</td>\n",
       "      <td>[designed, make, difference]</td>\n",
       "    </tr>\n",
       "  </tbody>\n",
       "</table>\n",
       "</div>"
      ],
      "text/plain": [
       "        Company                          Slogan                    text_token\n",
       "0  Costa Coffee              For coffee lovers.              [coffee, lovers]\n",
       "1         Evian              Evian. Live young.          [evian, live, young]\n",
       "2        Dasani  Designed to make a difference.  [designed, make, difference]"
      ]
     },
     "execution_count": 115,
     "metadata": {},
     "output_type": "execute_result"
    }
   ],
   "source": [
    "def filter_stopwords(words):\n",
    "    stop_words = set(stopwords.words(\"english\"))\n",
    "    filtered_list = []\n",
    "    for word in words:\n",
    "        if word.casefold() not in stop_words:\n",
    "            filtered_list.append(word.lower())\n",
    "    return filtered_list\n",
    "\n",
    "def tokenize_column(data_column):\n",
    "    data_list = []\n",
    "    for index in data_column:\n",
    "        tknized_txt= re.findall('\\w+', index)\n",
    "        filtered_tknized_txt = filter_stopwords(tknized_txt)\n",
    "        data_list.append(filtered_tknized_txt)\n",
    "    return data_list\n",
    "\n",
    "data['text_token'] = tokenize_column(data['Slogan'])\n",
    "data.head(3)"
   ]
  },
  {
   "cell_type": "code",
   "execution_count": 116,
   "id": "eb979ea5-1bd2-44e5-ae63-9a48f57c15e0",
   "metadata": {},
   "outputs": [],
   "source": [
    "allwords = []\n",
    "for word in data['text_token']:\n",
    "    allwords = allwords + word\n",
    "fdist = FreqDist(allwords)"
   ]
  },
  {
   "cell_type": "code",
   "execution_count": 117,
   "id": "c1e95842-8042-4738-b99e-59ada06031c2",
   "metadata": {},
   "outputs": [
    {
     "data": {
      "text/plain": [
       "[('original', 63),\n",
       " ('good', 61),\n",
       " ('taste', 53),\n",
       " ('beer', 47),\n",
       " ('make', 45),\n",
       " ('tea', 44),\n",
       " ('love', 41),\n",
       " ('get', 41),\n",
       " ('great', 40),\n",
       " ('world', 40)]"
      ]
     },
     "execution_count": 117,
     "metadata": {},
     "output_type": "execute_result"
    }
   ],
   "source": [
    "fdist.most_common(10)"
   ]
  },
  {
   "cell_type": "code",
   "execution_count": 118,
   "id": "4915fef2-1231-4ce1-9221-be0195b0be65",
   "metadata": {},
   "outputs": [
    {
     "name": "stdout",
     "output_type": "stream",
     "text": [
      "original     good    taste     beer     make      tea     love      get    great    world \n",
      "      63       61       53       47       45       44       41       41       40       40 \n"
     ]
    }
   ],
   "source": [
    "fdist.tabulate(10)"
   ]
  },
  {
   "cell_type": "code",
   "execution_count": null,
   "id": "9cea80b4-ee8b-46e2-b7c5-8f7a95ad6481",
   "metadata": {},
   "outputs": [],
   "source": []
  },
  {
   "cell_type": "code",
   "execution_count": null,
   "id": "7a63a9ee-7ed1-4df7-88c3-35ed453c8d04",
   "metadata": {},
   "outputs": [],
   "source": []
  },
  {
   "cell_type": "code",
   "execution_count": null,
   "id": "f388de4f-7fa8-4737-aff2-06fc9495f35c",
   "metadata": {},
   "outputs": [],
   "source": []
  }
 ],
 "metadata": {
  "kernelspec": {
   "display_name": "Python 3 (ipykernel)",
   "language": "python",
   "name": "python3"
  },
  "language_info": {
   "codemirror_mode": {
    "name": "ipython",
    "version": 3
   },
   "file_extension": ".py",
   "mimetype": "text/x-python",
   "name": "python",
   "nbconvert_exporter": "python",
   "pygments_lexer": "ipython3",
   "version": "3.9.12"
  }
 },
 "nbformat": 4,
 "nbformat_minor": 5
}

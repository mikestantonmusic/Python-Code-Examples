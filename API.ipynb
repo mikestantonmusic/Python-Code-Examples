{
 "cells": [
  {
   "cell_type": "code",
   "execution_count": 5,
   "id": "894b4d9a-b274-43c8-a2e5-c159edf517c6",
   "metadata": {},
   "outputs": [
    {
     "data": {
      "text/plain": [
       "{'time': {'updated': 'Jan 18, 2023 16:50:00 UTC',\n",
       "  'updatedISO': '2023-01-18T16:50:00+00:00',\n",
       "  'updateduk': 'Jan 18, 2023 at 16:50 GMT'},\n",
       " 'disclaimer': 'This data was produced from the CoinDesk Bitcoin Price Index (USD). Non-USD currency data converted using hourly conversion rate from openexchangerates.org',\n",
       " 'chartName': 'Bitcoin',\n",
       " 'bpi': {'USD': {'code': 'USD',\n",
       "   'symbol': '&#36;',\n",
       "   'rate': '20,562.3036',\n",
       "   'description': 'United States Dollar',\n",
       "   'rate_float': 20562.3036},\n",
       "  'GBP': {'code': 'GBP',\n",
       "   'symbol': '&pound;',\n",
       "   'rate': '17,181.6964',\n",
       "   'description': 'British Pound Sterling',\n",
       "   'rate_float': 17181.6964},\n",
       "  'EUR': {'code': 'EUR',\n",
       "   'symbol': '&euro;',\n",
       "   'rate': '20,030.6858',\n",
       "   'description': 'Euro',\n",
       "   'rate_float': 20030.6858}}}"
      ]
     },
     "execution_count": 5,
     "metadata": {},
     "output_type": "execute_result"
    }
   ],
   "source": [
    "# using the requests library\n",
    "import json\n",
    "import requests\n",
    "request = requests.get('https://api.coindesk.com/v1/bpi/currentprice.json').text\n",
    "result = json.loads(request)\n",
    "result"
   ]
  },
  {
   "cell_type": "code",
   "execution_count": 9,
   "id": "0f33438b-18b1-44c6-9a99-561aa31af861",
   "metadata": {},
   "outputs": [
    {
     "data": {
      "text/plain": [
       "{'time': {'updated': 'Jan 18, 2023 16:54:00 UTC',\n",
       "  'updatedISO': '2023-01-18T16:54:00+00:00',\n",
       "  'updateduk': 'Jan 18, 2023 at 16:54 GMT'},\n",
       " 'disclaimer': 'This data was produced from the CoinDesk Bitcoin Price Index (USD). Non-USD currency data converted using hourly conversion rate from openexchangerates.org',\n",
       " 'chartName': 'Bitcoin',\n",
       " 'bpi': {'USD': {'code': 'USD',\n",
       "   'symbol': '&#36;',\n",
       "   'rate': '20,555.7519',\n",
       "   'description': 'United States Dollar',\n",
       "   'rate_float': 20555.7519},\n",
       "  'GBP': {'code': 'GBP',\n",
       "   'symbol': '&pound;',\n",
       "   'rate': '17,176.2218',\n",
       "   'description': 'British Pound Sterling',\n",
       "   'rate_float': 17176.2218},\n",
       "  'EUR': {'code': 'EUR',\n",
       "   'symbol': '&euro;',\n",
       "   'rate': '20,024.3035',\n",
       "   'description': 'Euro',\n",
       "   'rate_float': 20024.3035}}}"
      ]
     },
     "execution_count": 9,
     "metadata": {},
     "output_type": "execute_result"
    }
   ],
   "source": [
    "#using urllib\n",
    "from urllib.request import urlopen\n",
    "import json\n",
    "url = 'https://api.coindesk.com/v1/bpi/currentprice.json'\n",
    "response = urlopen(url)\n",
    "result = json.loads(response.read())\n",
    "result"
   ]
  },
  {
   "cell_type": "code",
   "execution_count": null,
   "id": "bbb45336-eca2-4007-abaf-3b4b915d66fc",
   "metadata": {},
   "outputs": [],
   "source": []
  }
 ],
 "metadata": {
  "kernelspec": {
   "display_name": "Python 3 (ipykernel)",
   "language": "python",
   "name": "python3"
  },
  "language_info": {
   "codemirror_mode": {
    "name": "ipython",
    "version": 3
   },
   "file_extension": ".py",
   "mimetype": "text/x-python",
   "name": "python",
   "nbconvert_exporter": "python",
   "pygments_lexer": "ipython3",
   "version": "3.9.12"
  }
 },
 "nbformat": 4,
 "nbformat_minor": 5
}

{
 "cells": [
  {
   "cell_type": "code",
   "execution_count": 1,
   "metadata": {},
   "outputs": [
    {
     "data": {
      "text/plain": [
       "{'time': {'updated': 'Feb 13, 2023 02:52:00 UTC',\n",
       "  'updatedISO': '2023-02-13T02:52:00+00:00',\n",
       "  'updateduk': 'Feb 13, 2023 at 02:52 GMT'},\n",
       " 'disclaimer': 'This data was produced from the CoinDesk Bitcoin Price Index (USD). Non-USD currency data converted using hourly conversion rate from openexchangerates.org',\n",
       " 'chartName': 'Bitcoin',\n",
       " 'bpi': {'USD': {'code': 'USD',\n",
       "   'symbol': '&#36;',\n",
       "   'rate': '21,745.8019',\n",
       "   'description': 'United States Dollar',\n",
       "   'rate_float': 21745.8019},\n",
       "  'GBP': {'code': 'GBP',\n",
       "   'symbol': '&pound;',\n",
       "   'rate': '18,170.6181',\n",
       "   'description': 'British Pound Sterling',\n",
       "   'rate_float': 18170.6181},\n",
       "  'EUR': {'code': 'EUR',\n",
       "   'symbol': '&euro;',\n",
       "   'rate': '21,183.5859',\n",
       "   'description': 'Euro',\n",
       "   'rate_float': 21183.5859}}}"
      ]
     },
     "execution_count": 1,
     "metadata": {},
     "output_type": "execute_result"
    }
   ],
   "source": [
    "# using the requests library\n",
    "import json\n",
    "import requests\n",
    "request = requests.get('https://api.coindesk.com/v1/bpi/currentprice.json').text\n",
    "result = json.loads(request)\n",
    "result"
   ]
  },
  {
   "cell_type": "code",
   "execution_count": 2,
   "metadata": {},
   "outputs": [
    {
     "data": {
      "text/plain": [
       "{'time': {'updated': 'Feb 13, 2023 02:52:00 UTC',\n",
       "  'updatedISO': '2023-02-13T02:52:00+00:00',\n",
       "  'updateduk': 'Feb 13, 2023 at 02:52 GMT'},\n",
       " 'disclaimer': 'This data was produced from the CoinDesk Bitcoin Price Index (USD). Non-USD currency data converted using hourly conversion rate from openexchangerates.org',\n",
       " 'chartName': 'Bitcoin',\n",
       " 'bpi': {'USD': {'code': 'USD',\n",
       "   'symbol': '&#36;',\n",
       "   'rate': '21,745.8019',\n",
       "   'description': 'United States Dollar',\n",
       "   'rate_float': 21745.8019},\n",
       "  'GBP': {'code': 'GBP',\n",
       "   'symbol': '&pound;',\n",
       "   'rate': '18,170.6181',\n",
       "   'description': 'British Pound Sterling',\n",
       "   'rate_float': 18170.6181},\n",
       "  'EUR': {'code': 'EUR',\n",
       "   'symbol': '&euro;',\n",
       "   'rate': '21,183.5859',\n",
       "   'description': 'Euro',\n",
       "   'rate_float': 21183.5859}}}"
      ]
     },
     "execution_count": 2,
     "metadata": {},
     "output_type": "execute_result"
    }
   ],
   "source": [
    "#using urllib\n",
    "from urllib.request import urlopen\n",
    "import json\n",
    "url = 'https://api.coindesk.com/v1/bpi/currentprice.json'\n",
    "response = urlopen(url)\n",
    "result = json.loads(response.read())\n",
    "result"
   ]
  },
  {
   "cell_type": "code",
   "execution_count": null,
   "metadata": {},
   "outputs": [],
   "source": []
  }
 ],
 "metadata": {
  "kernelspec": {
   "display_name": "Python 3",
   "language": "python",
   "name": "python3"
  },
  "language_info": {
   "codemirror_mode": {
    "name": "ipython",
    "version": 3
   },
   "file_extension": ".py",
   "mimetype": "text/x-python",
   "name": "python",
   "nbconvert_exporter": "python",
   "pygments_lexer": "ipython3",
   "version": "3.7.4"
  }
 },
 "nbformat": 4,
 "nbformat_minor": 5
}

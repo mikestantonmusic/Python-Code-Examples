{
 "cells": [
  {
   "cell_type": "code",
   "execution_count": 2,
   "id": "25e5d7be",
   "metadata": {},
   "outputs": [
    {
     "data": {
      "text/plain": [
       "52"
      ]
     },
     "execution_count": 2,
     "metadata": {},
     "output_type": "execute_result"
    }
   ],
   "source": [
    "def lin_gen_func(start,end):\n",
    "    for x in range(start,end):\n",
    "        y = 2*x+50\n",
    "        yield y\n",
    "        \n",
    "lin_seq = lin_gen_func(1,5)\n",
    "next(lin_seq)"
   ]
  },
  {
   "cell_type": "code",
   "execution_count": 3,
   "id": "a964d740",
   "metadata": {},
   "outputs": [
    {
     "data": {
      "text/plain": [
       "54"
      ]
     },
     "execution_count": 3,
     "metadata": {},
     "output_type": "execute_result"
    }
   ],
   "source": [
    "next(lin_seq)"
   ]
  },
  {
   "cell_type": "code",
   "execution_count": 4,
   "id": "d2cfed41",
   "metadata": {},
   "outputs": [
    {
     "data": {
      "text/plain": [
       "56"
      ]
     },
     "execution_count": 4,
     "metadata": {},
     "output_type": "execute_result"
    }
   ],
   "source": [
    "next(lin_seq)"
   ]
  },
  {
   "cell_type": "code",
   "execution_count": 5,
   "id": "dc13c085",
   "metadata": {},
   "outputs": [
    {
     "data": {
      "text/plain": [
       "58"
      ]
     },
     "execution_count": 5,
     "metadata": {},
     "output_type": "execute_result"
    }
   ],
   "source": [
    "next(lin_seq)"
   ]
  },
  {
   "cell_type": "code",
   "execution_count": null,
   "id": "17332111",
   "metadata": {},
   "outputs": [],
   "source": []
  }
 ],
 "metadata": {
  "kernelspec": {
   "display_name": "Python 3 (ipykernel)",
   "language": "python",
   "name": "python3"
  },
  "language_info": {
   "codemirror_mode": {
    "name": "ipython",
    "version": 3
   },
   "file_extension": ".py",
   "mimetype": "text/x-python",
   "name": "python",
   "nbconvert_exporter": "python",
   "pygments_lexer": "ipython3",
   "version": "3.9.12"
  }
 },
 "nbformat": 4,
 "nbformat_minor": 5
}

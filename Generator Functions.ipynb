{
 "cells": [
  {
   "cell_type": "code",
   "execution_count": 2,
   "id": "308c0598-d455-4e8d-850b-8f804e8b1c2f",
   "metadata": {},
   "outputs": [
    {
     "data": {
      "text/plain": [
       "52"
      ]
     },
     "execution_count": 2,
     "metadata": {},
     "output_type": "execute_result"
    }
   ],
   "source": [
    "def lin_gen_func(start,end):\n",
    "    for x in range(start,end):\n",
    "        y = 2*x+50\n",
    "        yield y\n",
    "        \n",
    "lin_seq = lin_gen_func(1,5)\n",
    "next(lin_seq)"
   ]
  },
  {
   "cell_type": "code",
   "execution_count": 3,
   "id": "d2e304c7-724a-4d70-bab1-736095de966c",
   "metadata": {},
   "outputs": [
    {
     "data": {
      "text/plain": [
       "54"
      ]
     },
     "execution_count": 3,
     "metadata": {},
     "output_type": "execute_result"
    }
   ],
   "source": [
    "next(lin_seq)"
   ]
  },
  {
   "cell_type": "code",
   "execution_count": 4,
   "id": "0de9e54e-fffe-4aa5-8a1b-af518b9e809c",
   "metadata": {},
   "outputs": [
    {
     "data": {
      "text/plain": [
       "56"
      ]
     },
     "execution_count": 4,
     "metadata": {},
     "output_type": "execute_result"
    }
   ],
   "source": [
    "next(lin_seq)"
   ]
  },
  {
   "cell_type": "code",
   "execution_count": 5,
   "id": "74caf064-20d7-4b44-937f-9ac49db24554",
   "metadata": {},
   "outputs": [
    {
     "data": {
      "text/plain": [
       "58"
      ]
     },
     "execution_count": 5,
     "metadata": {},
     "output_type": "execute_result"
    }
   ],
   "source": [
    "next(lin_seq)"
   ]
  },
  {
   "cell_type": "code",
   "execution_count": null,
   "id": "8d2e5c46-3c43-4ead-8172-bb48bb4c5af1",
   "metadata": {},
   "outputs": [],
   "source": []
  }
 ],
 "metadata": {
  "kernelspec": {
   "display_name": "Python 3 (ipykernel)",
   "language": "python",
   "name": "python3"
  },
  "language_info": {
   "codemirror_mode": {
    "name": "ipython",
    "version": 3
   },
   "file_extension": ".py",
   "mimetype": "text/x-python",
   "name": "python",
   "nbconvert_exporter": "python",
   "pygments_lexer": "ipython3",
   "version": "3.9.12"
  }
 },
 "nbformat": 4,
 "nbformat_minor": 5
}

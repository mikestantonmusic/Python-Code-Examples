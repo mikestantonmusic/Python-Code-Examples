{
 "cells": [
  {
   "cell_type": "code",
   "execution_count": 5,
   "id": "25e5d7be",
   "metadata": {},
   "outputs": [],
   "source": [
    "import plotly.express as px\n",
    "import numpy as np"
   ]
  },
  {
   "cell_type": "code",
   "execution_count": 3,
   "id": "02ee9abd-d394-487b-8e8f-11f50f500f7c",
   "metadata": {},
   "outputs": [
    {
     "data": {
      "text/plain": [
       "47"
      ]
     },
     "execution_count": 3,
     "metadata": {},
     "output_type": "execute_result"
    }
   ],
   "source": [
    "def lin_gen_func(start,end):\n",
    "    for x in range(start,end):\n",
    "        y = -2*x**3 + 5*x**2 + -1*x + 45\n",
    "        yield y\n",
    "        \n",
    "lin_seq = lin_gen_func(1,5)\n",
    "next(lin_seq)"
   ]
  },
  {
   "cell_type": "code",
   "execution_count": 4,
   "id": "a964d740",
   "metadata": {},
   "outputs": [
    {
     "data": {
      "text/plain": [
       "47"
      ]
     },
     "execution_count": 4,
     "metadata": {},
     "output_type": "execute_result"
    }
   ],
   "source": [
    "next(lin_seq)"
   ]
  },
  {
   "cell_type": "code",
   "execution_count": 5,
   "id": "d2cfed41",
   "metadata": {},
   "outputs": [
    {
     "data": {
      "text/plain": [
       "33"
      ]
     },
     "execution_count": 5,
     "metadata": {},
     "output_type": "execute_result"
    }
   ],
   "source": [
    "next(lin_seq)"
   ]
  },
  {
   "cell_type": "code",
   "execution_count": 6,
   "id": "dc13c085",
   "metadata": {},
   "outputs": [
    {
     "data": {
      "text/plain": [
       "-7"
      ]
     },
     "execution_count": 6,
     "metadata": {},
     "output_type": "execute_result"
    }
   ],
   "source": [
    "next(lin_seq)"
   ]
  },
  {
   "cell_type": "code",
   "execution_count": 17,
   "id": "35bbdbdb-1aa0-431e-a93e-dafe7b3c4d98",
   "metadata": {},
   "outputs": [
    {
     "data": {
      "text/plain": [
       "64"
      ]
     },
     "execution_count": 17,
     "metadata": {},
     "output_type": "execute_result"
    }
   ],
   "source": [
    "c_maj_scale = [60, 62, 64, 65, 67, 69, 71, 72]\n",
    "\n",
    "def skip_1note(scale):\n",
    "    note=0\n",
    "    note=(note+2)%7\n",
    "    yield scale[note]\n",
    "    \n",
    "skip1_seq = skip_1note(c_maj_scale)\n",
    "next(skip1_seq)"
   ]
  },
  {
   "cell_type": "code",
   "execution_count": 18,
   "id": "0e0eb81b-f8bd-41c0-b28e-1b4aa772148d",
   "metadata": {},
   "outputs": [
    {
     "ename": "StopIteration",
     "evalue": "",
     "output_type": "error",
     "traceback": [
      "\u001b[1;31m---------------------------------------------------------------------------\u001b[0m",
      "\u001b[1;31mStopIteration\u001b[0m                             Traceback (most recent call last)",
      "Input \u001b[1;32mIn [18]\u001b[0m, in \u001b[0;36m<cell line: 1>\u001b[1;34m()\u001b[0m\n\u001b[1;32m----> 1\u001b[0m \u001b[38;5;28;43mnext\u001b[39;49m\u001b[43m(\u001b[49m\u001b[43mskip1_seq\u001b[49m\u001b[43m)\u001b[49m\n",
      "\u001b[1;31mStopIteration\u001b[0m: "
     ]
    }
   ],
   "source": [
    "next(skip1_seq)"
   ]
  },
  {
   "cell_type": "code",
   "execution_count": 4,
   "id": "17332111",
   "metadata": {},
   "outputs": [
    {
     "name": "stdout",
     "output_type": "stream",
     "text": [
      "pygame 2.3.0 (SDL 2.24.2, Python 3.9.12)\n",
      "Hello from the pygame community. https://www.pygame.org/contribute.html\n"
     ]
    }
   ],
   "source": [
    "from midiutil import MIDIFile\n",
    "\n",
    "# create a MIDI file with one track\n",
    "midi_file = MIDIFile(numTracks=1)\n",
    "\n",
    "# add track name and tempo\n",
    "track = 0\n",
    "time = 0\n",
    "midi_file.addTrackName(track, time, \"Sample Track\")\n",
    "midi_file.addTempo(track, time, 120)\n",
    "\n",
    "# define notes\n",
    "channel = 0\n",
    "pitch = [60, 62, 64, 65, 67, 69, 71, 72] # MIDI note numbers for C major scale\n",
    "duration = 1 # duration in beats\n",
    "volume = 100 # volume 0-127\n",
    "\n",
    "# add notes to track\n",
    "for i, note in enumerate(pitch):\n",
    "    time = i * duration\n",
    "    midi_file.addNote(track, channel, note, time, duration, volume)\n",
    "\n",
    "# save MIDI file\n",
    "with open(\"output.mid\", \"wb\") as output_file:\n",
    "    midi_file.writeFile(output_file)\n",
    "\n",
    "# play MIDI file\n",
    "import pygame\n",
    "pygame.init()\n",
    "pygame.mixer.music.load(\"output.mid\")\n",
    "pygame.mixer.music.play()\n",
    "while pygame.mixer.music.get_busy():\n",
    "    pygame.time.Clock().tick(10)\n",
    "pygame.quit()"
   ]
  },
  {
   "cell_type": "code",
   "execution_count": null,
   "id": "f7dc6336-f8db-45d3-9402-ad59b3b0f6e1",
   "metadata": {},
   "outputs": [],
   "source": []
  },
  {
   "cell_type": "code",
   "execution_count": null,
   "id": "9d3df3cc-cc2a-4402-99af-335c7f240575",
   "metadata": {},
   "outputs": [],
   "source": []
  },
  {
   "cell_type": "code",
   "execution_count": null,
   "id": "4fffd2cf-3fe8-4653-a51f-6d1bb4401325",
   "metadata": {},
   "outputs": [],
   "source": []
  }
 ],
 "metadata": {
  "kernelspec": {
   "display_name": "Python 3 (ipykernel)",
   "language": "python",
   "name": "python3"
  },
  "language_info": {
   "codemirror_mode": {
    "name": "ipython",
    "version": 3
   },
   "file_extension": ".py",
   "mimetype": "text/x-python",
   "name": "python",
   "nbconvert_exporter": "python",
   "pygments_lexer": "ipython3",
   "version": "3.9.12"
  }
 },
 "nbformat": 4,
 "nbformat_minor": 5
}

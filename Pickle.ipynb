{
 "cells": [
  {
   "cell_type": "code",
   "execution_count": 55,
   "metadata": {},
   "outputs": [],
   "source": [
    "import pandas as pd\n",
    "import pickle\n",
    "from sklearn.datasets import load_diabetes\n",
    "from sklearn.model_selection import train_test_split\n",
    "from sklearn.tree import DecisionTreeRegressor"
   ]
  },
  {
   "cell_type": "code",
   "execution_count": 56,
   "metadata": {},
   "outputs": [],
   "source": [
    "def generatemodel(X, y):\n",
    "    X_train, X_test, y_train, y_test = train_test_split(X, y, test_size=0.3, random_state = 0)\n",
    "    model = DecisionTreeRegressor(random_state = 0)\n",
    "    model.fit(X_train, y_train)\n",
    "    pickle.dump(model, open('model.pkl', 'wb')) #how to save a variable, in this case the model to a pickel"
   ]
  },
  {
   "cell_type": "code",
   "execution_count": 57,
   "metadata": {},
   "outputs": [],
   "source": [
    "def usemodel(data):\n",
    "    model = pickle.load(open('model.pkl', 'rb')) #how to retrieve the pickled variable instead of redifining it from scratch\n",
    "    output = model.predict(data)\n",
    "    return output"
   ]
  },
  {
   "cell_type": "code",
   "execution_count": 58,
   "metadata": {},
   "outputs": [
    {
     "data": {
      "text/plain": [
       "array([ 55., 277., 128.,  73.,  75., 185., 242., 202., 245.,  42., 101.,\n",
       "        48., 190.,  95., 111.,  59.,  77., 150.,  91.,  99.,  90.,  97.,\n",
       "       125., 265., 310., 168.,  93.,  70., 101., 308., 236., 121., 143.,\n",
       "        52.,  93.,  81.,  48., 217.,  52., 220.,  74., 184., 100., 206.,\n",
       "       153., 249.,  83.,  72., 115., 283., 191.,  90., 185.,  89., 206.,\n",
       "       236., 242., 281., 114., 248., 123.,  39.,  42., 201.,  52., 111.,\n",
       "       109., 233., 121., 258., 311., 259.,  90.,  45.,  96., 113.,  39.,\n",
       "        87., 233., 172.,  54.,  63.,  85.,  75., 248.,  70., 225.,  78.,\n",
       "       139.,  43., 200., 121., 281., 272.,  59.,  72.,  97.,  60., 109.,\n",
       "        77., 142., 101., 140.,  94., 232.,  61., 124., 252.,  85.,  43.,\n",
       "        59., 252., 220.,  53.,  70., 296.,  53., 258.,  69.,  66.,  40.,\n",
       "       141., 252.,  25., 248., 248., 281., 170.,  85., 202.,  42., 185.,\n",
       "        69.])"
      ]
     },
     "execution_count": 58,
     "metadata": {},
     "output_type": "execute_result"
    }
   ],
   "source": [
    "#get some data to use\n",
    "X_data, Y_data = load_diabetes(return_X_y=True, as_frame=True)\n",
    "\n",
    "#generate a model using new generate model function\n",
    "generatemodel(X=X_data, y=Y_data)\n",
    "\n",
    "#generate some test data to test with\n",
    "X_train, X_test, y_train, y_test = train_test_split(X, y, test_size=0.3, random_state = None)\n",
    "\n",
    "#run the model on the test data\n",
    "usemodel(data=X_test)\n"
   ]
  },
  {
   "cell_type": "code",
   "execution_count": 59,
   "metadata": {},
   "outputs": [
    {
     "data": {
      "text/plain": [
       "array([259.,  60.,  63., 128.,  72., 230.,  59., 262., 200., 262.,  91.,\n",
       "       237., 190., 120., 270., 154., 214.,  83., 153., 202., 265., 178.,\n",
       "       185., 220., 108., 272.,  77., 311., 161., 170., 104., 200., 221.,\n",
       "       164.,  72., 155.,  60., 296.,  93., 178., 258., 131., 146.,  97.,\n",
       "        52.,  65., 261.,  94.,  74.,  84., 104.,  66., 280.,  78.,  55.,\n",
       "       248., 202.,  83.,  92., 183.,  96., 140., 129., 150.,  91., 164.,\n",
       "       164., 202., 246., 122., 101., 210.,  64., 152.,  70., 191.,  39.,\n",
       "        88., 144.,  71.,  71., 170., 131., 141., 225., 303.,  47.,  91.,\n",
       "       183., 257.,  48., 151., 270., 139.,  74., 134., 114., 219., 210.,\n",
       "       221.,  52., 138., 128., 124., 293., 241., 200.,  90., 102., 310.,\n",
       "       221., 268.,  59., 199., 116., 116., 134., 178., 310.,  39., 265.,\n",
       "       346., 132., 185.,  90.,  72., 111., 126., 200.,  72., 162., 185.,\n",
       "        53., 216., 332., 206.,  81., 206., 253., 102., 275., 274.,  40.,\n",
       "       178.,  59.,  73., 147., 292., 202., 144., 160.,  69., 246., 121.,\n",
       "        65., 142.,  84., 164., 295., 143., 288., 178., 262., 233., 187.,\n",
       "        65., 148., 332., 246., 277., 115., 134., 259.,  58., 166., 168.,\n",
       "        50.,  59., 122., 229., 121., 150., 202.,  63.,  77., 220., 144.,\n",
       "       306.,  64., 164.,  52.,  47., 277., 279.,  71., 178., 172., 265.,\n",
       "       118., 222., 101.,  91., 221., 273., 261., 129.,  65., 341., 151.,\n",
       "       242., 183., 116.,  84.,  80.,  44.,  51., 308., 263.,  71., 206.,\n",
       "       341., 281., 129.,  81.,  77.,  83., 173.,  79.,  88., 160.,  85.,\n",
       "       173., 122.,  31., 245., 108.,  92.,  96., 242.,  93.,  42., 273.,\n",
       "        69.,  87.,  37.,  55., 235., 180., 178., 258.,  91., 113., 140.,\n",
       "       152., 263., 242., 104., 107., 209., 182.,  91., 258., 259., 206.,\n",
       "        67.,  55., 253., 158., 221.,  65., 268., 336., 292., 198., 178.,\n",
       "        88.,  83., 173.,  60.,  61., 118., 225., 233., 243., 181., 141.,\n",
       "       109., 265.,  77., 214., 102., 196., 134.,  52.,  90., 168., 177.,\n",
       "       243., 153.,  91.,  88., 189.,  70.,  78., 129., 122., 102., 115.,\n",
       "       210.])"
      ]
     },
     "execution_count": 59,
     "metadata": {},
     "output_type": "execute_result"
    }
   ],
   "source": [
    "#run the model on some other data\n",
    "usemodel(data=X_train)"
   ]
  },
  {
   "cell_type": "code",
   "execution_count": null,
   "metadata": {},
   "outputs": [],
   "source": []
  },
  {
   "cell_type": "code",
   "execution_count": null,
   "metadata": {},
   "outputs": [],
   "source": []
  }
 ],
 "metadata": {
  "kernelspec": {
   "display_name": "Python 3",
   "language": "python",
   "name": "python3"
  },
  "language_info": {
   "codemirror_mode": {
    "name": "ipython",
    "version": 3
   },
   "file_extension": ".py",
   "mimetype": "text/x-python",
   "name": "python",
   "nbconvert_exporter": "python",
   "pygments_lexer": "ipython3",
   "version": "3.7.4"
  }
 },
 "nbformat": 4,
 "nbformat_minor": 5
}
